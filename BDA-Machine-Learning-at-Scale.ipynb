{
 "cells": [
  {
   "cell_type": "markdown",
   "metadata": {
    "toc": true
   },
   "source": [
    "<h1>MỤC LỤC<span class=\"tocSkip\"></span></h1>\n",
    "<div class=\"toc\"><ul class=\"toc-item\"><li><span><a href=\"#TỔNG-QUAN-ĐỀ-TÀI\" data-toc-modified-id=\"TỔNG-QUAN-ĐỀ-TÀI-1\"><span class=\"toc-item-num\">1&nbsp;&nbsp;</span>TỔNG QUAN ĐỀ TÀI</a></span><ul class=\"toc-item\"><li><span><a href=\"#Mô-tả-đề-tài\" data-toc-modified-id=\"Mô-tả-đề-tài-1.1\"><span class=\"toc-item-num\">1.1&nbsp;&nbsp;</span>Mô tả đề tài</a></span></li><li><span><a href=\"#Mô-tả-tập-dữ-liệu\" data-toc-modified-id=\"Mô-tả-tập-dữ-liệu-1.2\"><span class=\"toc-item-num\">1.2&nbsp;&nbsp;</span>Mô tả tập dữ liệu</a></span><ul class=\"toc-item\"><li><span><a href=\"#Tập-train\" data-toc-modified-id=\"Tập-train-1.2.1\"><span class=\"toc-item-num\">1.2.1&nbsp;&nbsp;</span>Tập train</a></span></li><li><span><a href=\"#Tập-test\" data-toc-modified-id=\"Tập-test-1.2.2\"><span class=\"toc-item-num\">1.2.2&nbsp;&nbsp;</span>Tập test</a></span></li></ul></li><li><span><a href=\"#Thuật-toán\" data-toc-modified-id=\"Thuật-toán-1.3\"><span class=\"toc-item-num\">1.3&nbsp;&nbsp;</span>Thuật toán</a></span></li><li><span><a href=\"#Đánh-giá-mô-hình\" data-toc-modified-id=\"Đánh-giá-mô-hình-1.4\"><span class=\"toc-item-num\">1.4&nbsp;&nbsp;</span>Đánh giá mô hình</a></span><ul class=\"toc-item\"><li><span><a href=\"#Gini\" data-toc-modified-id=\"Gini-1.4.1\"><span class=\"toc-item-num\">1.4.1&nbsp;&nbsp;</span>Gini</a></span></li><li><span><a href=\"#Confusion-Matrix\" data-toc-modified-id=\"Confusion-Matrix-1.4.2\"><span class=\"toc-item-num\">1.4.2&nbsp;&nbsp;</span>Confusion Matrix</a></span></li></ul></li></ul></li><li><span><a href=\"#TIỀN-XỬ-LÝ-DỮ-LIỆU\" data-toc-modified-id=\"TIỀN-XỬ-LÝ-DỮ-LIỆU-2\"><span class=\"toc-item-num\">2&nbsp;&nbsp;</span>TIỀN XỬ LÝ DỮ LIỆU</a></span><ul class=\"toc-item\"><li><span><a href=\"#Khởi-tạo,-import-thư-viện,-load-dữ-liệu-vào-Spark-DataFrame\" data-toc-modified-id=\"Khởi-tạo,-import-thư-viện,-load-dữ-liệu-vào-Spark-DataFrame-2.1\"><span class=\"toc-item-num\">2.1&nbsp;&nbsp;</span>Khởi tạo, import thư viện, load dữ liệu vào Spark DataFrame</a></span><ul class=\"toc-item\"><li><span><a href=\"#Khởi-tạo-PySpark\" data-toc-modified-id=\"Khởi-tạo-PySpark-2.1.1\"><span class=\"toc-item-num\">2.1.1&nbsp;&nbsp;</span>Khởi tạo PySpark</a></span></li><li><span><a href=\"#Import-thư-viện-cần-thiết\" data-toc-modified-id=\"Import-thư-viện-cần-thiết-2.1.2\"><span class=\"toc-item-num\">2.1.2&nbsp;&nbsp;</span>Import thư viện cần thiết</a></span></li><li><span><a href=\"#Load-dữ-liệu-vào-Spark-DataFrame\" data-toc-modified-id=\"Load-dữ-liệu-vào-Spark-DataFrame-2.1.3\"><span class=\"toc-item-num\">2.1.3&nbsp;&nbsp;</span>Load dữ liệu vào Spark DataFrame</a></span></li></ul></li><li><span><a href=\"#Kiểm-tra-dữ-liệu\" data-toc-modified-id=\"Kiểm-tra-dữ-liệu-2.2\"><span class=\"toc-item-num\">2.2&nbsp;&nbsp;</span>Kiểm tra dữ liệu</a></span></li><li><span><a href=\"#Xác-định-các-categorical-variable-(-biến-phân-loại)-và-nummerical-variable-(-biến-số)\" data-toc-modified-id=\"Xác-định-các-categorical-variable-(-biến-phân-loại)-và-nummerical-variable-(-biến-số)-2.3\"><span class=\"toc-item-num\">2.3&nbsp;&nbsp;</span>Xác định các categorical variable ( biến phân loại) và nummerical variable ( biến số)</a></span><ul class=\"toc-item\"><li><span><a href=\"#Xác-định-các-categorical-variable-(-biến-phân-loại)-và-nummerical-variable-(-biến-số)-trong-tập-train\" data-toc-modified-id=\"Xác-định-các-categorical-variable-(-biến-phân-loại)-và-nummerical-variable-(-biến-số)-trong-tập-train-2.3.1\"><span class=\"toc-item-num\">2.3.1&nbsp;&nbsp;</span>Xác định các categorical variable ( biến phân loại) và nummerical variable ( biến số) trong tập train</a></span></li><li><span><a href=\"#Xác-định-các-categorical-variable-(-biến-phân-loại)-và-nummerical-variable-(-biến-số)-trong-tập-test\" data-toc-modified-id=\"Xác-định-các-categorical-variable-(-biến-phân-loại)-và-nummerical-variable-(-biến-số)-trong-tập-test-2.3.2\"><span class=\"toc-item-num\">2.3.2&nbsp;&nbsp;</span>Xác định các categorical variable ( biến phân loại) và nummerical variable ( biến số) trong tập test</a></span></li></ul></li><li><span><a href=\"#Kiểm-tra-và-xử-lý-các-giá-trị-bị-thiếu-trong-tập-train\" data-toc-modified-id=\"Kiểm-tra-và-xử-lý-các-giá-trị-bị-thiếu-trong-tập-train-2.4\"><span class=\"toc-item-num\">2.4&nbsp;&nbsp;</span>Kiểm tra và xử lý các giá trị bị thiếu trong tập train</a></span><ul class=\"toc-item\"><li><span><a href=\"#Kiểm-tra--bị-thiếu-trong-tập-train\" data-toc-modified-id=\"Kiểm-tra--bị-thiếu-trong-tập-train-2.4.1\"><span class=\"toc-item-num\">2.4.1&nbsp;&nbsp;</span>Kiểm tra  bị thiếu trong tập train</a></span></li><li><span><a href=\"#Xử-lý-các-giá-trị-bị-thiếu-trong-tập-train\" data-toc-modified-id=\"Xử-lý-các-giá-trị-bị-thiếu-trong-tập-train-2.4.2\"><span class=\"toc-item-num\">2.4.2&nbsp;&nbsp;</span>Xử lý các giá trị bị thiếu trong tập train</a></span></li></ul></li><li><span><a href=\"#Kiểm-tra-và-xử-lý-các-giá-trị-bị-thiếu-ở-tập-test\" data-toc-modified-id=\"Kiểm-tra-và-xử-lý-các-giá-trị-bị-thiếu-ở-tập-test-2.5\"><span class=\"toc-item-num\">2.5&nbsp;&nbsp;</span>Kiểm tra và xử lý các giá trị bị thiếu ở tập test</a></span><ul class=\"toc-item\"><li><span><a href=\"#Kiểm-tra-các-giá-trị-bị-thiếu-ở-tập-test\" data-toc-modified-id=\"Kiểm-tra-các-giá-trị-bị-thiếu-ở-tập-test-2.5.1\"><span class=\"toc-item-num\">2.5.1&nbsp;&nbsp;</span>Kiểm tra các giá trị bị thiếu ở tập test</a></span></li><li><span><a href=\"#Xử-lý-các-giá-trị-bị-thiếu-trong-tập-test\" data-toc-modified-id=\"Xử-lý-các-giá-trị-bị-thiếu-trong-tập-test-2.5.2\"><span class=\"toc-item-num\">2.5.2&nbsp;&nbsp;</span>Xử lý các giá trị bị thiếu trong tập test</a></span></li><li><span><a href=\"#Đối-chiếu-các-giá-trị-trong-cột-phân-loại-(categorical-columns)-ở-tập-train-(df_final)-và-tập-test-(test_data)\" data-toc-modified-id=\"Đối-chiếu-các-giá-trị-trong-cột-phân-loại-(categorical-columns)-ở-tập-train-(df_final)-và-tập-test-(test_data)-2.5.3\"><span class=\"toc-item-num\">2.5.3&nbsp;&nbsp;</span>Đối chiếu các giá trị trong cột phân loại (categorical columns) ở tập train (df_final) và tập test (test_data)</a></span></li></ul></li><li><span><a href=\"#Exploratory-data-analysis-(EDA)\" data-toc-modified-id=\"Exploratory-data-analysis-(EDA)-2.6\"><span class=\"toc-item-num\">2.6&nbsp;&nbsp;</span>Exploratory data analysis (EDA)</a></span><ul class=\"toc-item\"><li><span><a href=\"#Biểu-đồ-cột-phân-phối-giá-trị-của-một-vài-categorical-variable\" data-toc-modified-id=\"Biểu-đồ-cột-phân-phối-giá-trị-của-một-vài-categorical-variable-2.6.1\"><span class=\"toc-item-num\">2.6.1&nbsp;&nbsp;</span>Biểu đồ cột phân phối giá trị của một vài categorical variable</a></span></li><li><span><a href=\"#Biểu-đồ-cột-phân-phối-giá-trị-của-một-numerical-variables-(biến-số)\" data-toc-modified-id=\"Biểu-đồ-cột-phân-phối-giá-trị-của-một-numerical-variables-(biến-số)-2.6.2\"><span class=\"toc-item-num\">2.6.2&nbsp;&nbsp;</span>Biểu đồ cột phân phối giá trị của một numerical variables (biến số)</a></span></li></ul></li><li><span><a href=\"#Thay-thế-(replace)-các-giá-trị-ít-xuất-hiện-trong-tập-train-và-tập-test\" data-toc-modified-id=\"Thay-thế-(replace)-các-giá-trị-ít-xuất-hiện-trong-tập-train-và-tập-test-2.7\"><span class=\"toc-item-num\">2.7&nbsp;&nbsp;</span>Thay thế (replace) các giá trị ít xuất hiện trong tập train và tập test</a></span><ul class=\"toc-item\"><li><span><a href=\"#Thay-thế-(replace)-các-giá-trị-ít-xuất-hiện-trong-tập-train\" data-toc-modified-id=\"Thay-thế-(replace)-các-giá-trị-ít-xuất-hiện-trong-tập-train-2.7.1\"><span class=\"toc-item-num\">2.7.1&nbsp;&nbsp;</span>Thay thế (replace) các giá trị ít xuất hiện trong tập train</a></span></li><li><span><a href=\"#Thay-thế-(replace)-các-giá-trị-ít-xuất-hiện-trong-tập-test\" data-toc-modified-id=\"Thay-thế-(replace)-các-giá-trị-ít-xuất-hiện-trong-tập-test-2.7.2\"><span class=\"toc-item-num\">2.7.2&nbsp;&nbsp;</span>Thay thế (replace) các giá trị ít xuất hiện trong tập test</a></span></li></ul></li><li><span><a href=\"#Biến-đổi-tập-train-data-và-tập-test-theo-định-dạng-của-Spark\" data-toc-modified-id=\"Biến-đổi-tập-train-data-và-tập-test-theo-định-dạng-của-Spark-2.8\"><span class=\"toc-item-num\">2.8&nbsp;&nbsp;</span>Biến đổi tập train data và tập test theo định dạng của Spark</a></span></li></ul></li><li><span><a href=\"#XÂY-DỰNG-VÀ-ĐÁNH-GIÁ-MÔ-HÌNH\" data-toc-modified-id=\"XÂY-DỰNG-VÀ-ĐÁNH-GIÁ-MÔ-HÌNH-3\"><span class=\"toc-item-num\">3&nbsp;&nbsp;</span>XÂY DỰNG VÀ ĐÁNH GIÁ MÔ HÌNH</a></span><ul class=\"toc-item\"><li><span><a href=\"#Chia-tập-train-thành-train-and-validation\" data-toc-modified-id=\"Chia-tập-train-thành-train-and-validation-3.1\"><span class=\"toc-item-num\">3.1&nbsp;&nbsp;</span>Chia tập train thành train and validation</a></span></li><li><span><a href=\"#Mô-hình-Logistic-Regression\" data-toc-modified-id=\"Mô-hình-Logistic-Regression-3.2\"><span class=\"toc-item-num\">3.2&nbsp;&nbsp;</span>Mô hình Logistic Regression</a></span><ul class=\"toc-item\"><li><span><a href=\"#Xây-dựng-mô-hình\" data-toc-modified-id=\"Xây-dựng-mô-hình-3.2.1\"><span class=\"toc-item-num\">3.2.1&nbsp;&nbsp;</span>Xây dựng mô hình</a></span></li><li><span><a href=\"#Đánh-giá-mô-hình\" data-toc-modified-id=\"Đánh-giá-mô-hình-3.2.2\"><span class=\"toc-item-num\">3.2.2&nbsp;&nbsp;</span>Đánh giá mô hình</a></span><ul class=\"toc-item\"><li><span><a href=\"#Xây-dựng-Confusion-Matrix\" data-toc-modified-id=\"Xây-dựng-Confusion-Matrix-3.2.2.1\"><span class=\"toc-item-num\">3.2.2.1&nbsp;&nbsp;</span>Xây dựng Confusion Matrix</a></span></li><li><span><a href=\"#Tính-hệ-số-Gini-từ-AUC\" data-toc-modified-id=\"Tính-hệ-số-Gini-từ-AUC-3.2.2.2\"><span class=\"toc-item-num\">3.2.2.2&nbsp;&nbsp;</span>Tính hệ số Gini từ AUC</a></span></li></ul></li></ul></li><li><span><a href=\"#Mô-hình-Decision-Tree\" data-toc-modified-id=\"Mô-hình-Decision-Tree-3.3\"><span class=\"toc-item-num\">3.3&nbsp;&nbsp;</span>Mô hình Decision Tree</a></span><ul class=\"toc-item\"><li><span><a href=\"#Xây-dựng-mô-hình\" data-toc-modified-id=\"Xây-dựng-mô-hình-3.3.1\"><span class=\"toc-item-num\">3.3.1&nbsp;&nbsp;</span>Xây dựng mô hình</a></span></li><li><span><a href=\"#Đánh-giá-mô-hình\" data-toc-modified-id=\"Đánh-giá-mô-hình-3.3.2\"><span class=\"toc-item-num\">3.3.2&nbsp;&nbsp;</span>Đánh giá mô hình</a></span><ul class=\"toc-item\"><li><span><a href=\"#Xây-dựng-Confusion-Matrix\" data-toc-modified-id=\"Xây-dựng-Confusion-Matrix-3.3.2.1\"><span class=\"toc-item-num\">3.3.2.1&nbsp;&nbsp;</span>Xây dựng Confusion Matrix</a></span></li><li><span><a href=\"#Tính-hệ-số-Gini-từ-AUC\" data-toc-modified-id=\"Tính-hệ-số-Gini-từ-AUC-3.3.2.2\"><span class=\"toc-item-num\">3.3.2.2&nbsp;&nbsp;</span>Tính hệ số Gini từ AUC</a></span></li></ul></li></ul></li><li><span><a href=\"#Mô-hình-Random-Forest\" data-toc-modified-id=\"Mô-hình-Random-Forest-3.4\"><span class=\"toc-item-num\">3.4&nbsp;&nbsp;</span>Mô hình Random Forest</a></span><ul class=\"toc-item\"><li><span><a href=\"#Xây-dựng-mô-hình\" data-toc-modified-id=\"Xây-dựng-mô-hình-3.4.1\"><span class=\"toc-item-num\">3.4.1&nbsp;&nbsp;</span>Xây dựng mô hình</a></span></li><li><span><a href=\"#Đánh-giá-mô-hình\" data-toc-modified-id=\"Đánh-giá-mô-hình-3.4.2\"><span class=\"toc-item-num\">3.4.2&nbsp;&nbsp;</span>Đánh giá mô hình</a></span><ul class=\"toc-item\"><li><span><a href=\"#Xây-dựng-Confusion-Matrix\" data-toc-modified-id=\"Xây-dựng-Confusion-Matrix-3.4.2.1\"><span class=\"toc-item-num\">3.4.2.1&nbsp;&nbsp;</span>Xây dựng Confusion Matrix</a></span></li><li><span><a href=\"#Tính-hệ-số-Gini-từ-AUC\" data-toc-modified-id=\"Tính-hệ-số-Gini-từ-AUC-3.4.2.2\"><span class=\"toc-item-num\">3.4.2.2&nbsp;&nbsp;</span>Tính hệ số Gini từ AUC</a></span></li></ul></li></ul></li><li><span><a href=\"#Dự-đoán-trên-tập-test\" data-toc-modified-id=\"Dự-đoán-trên-tập-test-3.5\"><span class=\"toc-item-num\">3.5&nbsp;&nbsp;</span>Dự đoán trên tập test</a></span><ul class=\"toc-item\"><li><span><a href=\"#Dự-đoán-dùng-mô-hình-Logistic-Regression\" data-toc-modified-id=\"Dự-đoán-dùng-mô-hình-Logistic-Regression-3.5.1\"><span class=\"toc-item-num\">3.5.1&nbsp;&nbsp;</span>Dự đoán dùng mô hình Logistic Regression</a></span></li><li><span><a href=\"#Dự-đoán-dùng-mô-hình-Decision-Tree\" data-toc-modified-id=\"Dự-đoán-dùng-mô-hình-Decision-Tree-3.5.2\"><span class=\"toc-item-num\">3.5.2&nbsp;&nbsp;</span>Dự đoán dùng mô hình Decision Tree</a></span></li></ul></li></ul></li></ul></div>"
   ]
  },
  {
   "cell_type": "markdown",
   "metadata": {},
   "source": [
    "## TỔNG QUAN ĐỀ TÀI"
   ]
  },
  {
   "cell_type": "markdown",
   "metadata": {},
   "source": [
    "### Mô tả đề tài"
   ]
  },
  {
   "cell_type": "markdown",
   "metadata": {},
   "source": [
    "Homesite, nhà cung cấp hàng đầu về bảo hiểm nhà ở. Homesite muốn tìm ra với mức thu nhập và mức giá bảo hiểm như thế nào thì khách hàng sẽ mua bảo hiểm nhà ở của họ. Từ đó điều chỉnh mức giá niêm yết bảo hiểm phù hợp để gia tăng doanh số. Sử dụng cơ sở dữ liệu ẩn danh thông tin về khách hàng và hoạt động bán bảo hiểm của công ty, bao gồm thông tin về giá trị tài sản và mức giá bảo hiểm. Tập dữ liệu có thể được tìm thấy tại [đây](https://www.kaggle.com/c/homesite-quote-conversion)"
   ]
  },
  {
   "cell_type": "markdown",
   "metadata": {},
   "source": [
    "### Mô tả tập dữ liệu"
   ]
  },
  {
   "cell_type": "markdown",
   "metadata": {},
   "source": [
    "####  Tập train"
   ]
  },
  {
   "cell_type": "markdown",
   "metadata": {},
   "source": [
    "Tập dữ liệu mô tả về lượng lớn khách hàng quan tâm việc mua bảo hiểm nhà ở của Homesite. Tập dữ liệu gồm 299 cột:\n",
    "\n",
    "•\tMột cột QuoteNumber: Khách hàng tiềm năng.\n",
    "\n",
    "•\tMột cột QuoteConversion_Flag: Cho biết liệu khách hàng có mua gói bảo hiểm nhà ở của Homesite (0 là mua 1 là không mua).\n",
    "\n",
    "•\tCác cột còn lại chứa các thông tin cụ thể về thông tin khác hàng như: Thông tin bảo hiểm cụ thể (specific coverage information), thông tin bán hàng (sales information), thông tin cá nhân (personal information), thông tin tài sản (property information) và thông tin địa chỉ (geographic information).\n",
    "\n",
    "Tập train có 260753 dòng, mỗi dòng tương ứng với một khách hàng. Tỷ lệ khách hàng mua bảo hiểm chiếm 81.2% và khách hàng không mua chiếm 18,8%."
   ]
  },
  {
   "cell_type": "markdown",
   "metadata": {},
   "source": [
    "#### Tập test "
   ]
  },
  {
   "cell_type": "markdown",
   "metadata": {},
   "source": [
    "Tập test chứa thông tin tương tự như tập train nhưng không có cột QuoteConversion_Flag.  Tập test có dòng 173836 dòng. Nhiệm vụ của chúng tôi là dự đoán QuoteConversion_Flag cho mỗi QuoteNumber trong tập test."
   ]
  },
  {
   "cell_type": "markdown",
   "metadata": {},
   "source": [
    "### Thuật toán "
   ]
  },
  {
   "cell_type": "markdown",
   "metadata": {},
   "source": [
    "Nhận thấy đây là bài toán phân loại nhị phân (Binary Classification) nên nhóm sẽ dùng các thuật toán như sau để thực hiện bài toán phân loại sử dụng thư viện pyspark.\n",
    "\n",
    "• Logistic Regression: Sử dụng hàm logit để dự đoán xác suất.\n",
    "\n",
    "• Decision Tree: Tìm biến độc lập quan trọng nhất để tạo nhóm. Decision tree là tên đại diện cho một nhóm thuật toán phát triển dựa trên decision tree. Ở đó, mỗi node của cây sẽ là các thuộc tính, và các nhánh là giá trị lựa chọn của thuộc tính đó. Bằng cách đi theo các giá trị thuộc tính trên cây, decision tree sẽ cho ta biết giá trị dự đoán.\n",
    "\n",
    "• Random Forest: Thuật toán này xây dựng nhiều cây quyết định và hợp nhất chúng lại với nhau. "
   ]
  },
  {
   "cell_type": "markdown",
   "metadata": {},
   "source": [
    "### Đánh giá mô hình"
   ]
  },
  {
   "cell_type": "markdown",
   "metadata": {},
   "source": [
    "#### Gini"
   ]
  },
  {
   "cell_type": "markdown",
   "metadata": {},
   "source": [
    "Gini là tỷ số giữa đường cong $ROC$ và đường $diagnol line$ & diện tích của tam giác trên (the area of the above triangle). Vì vậy, chúng ta có thể tính toán $Gini$ theo công thức sau:\n",
    "\n",
    "$$Gini = 2*AUC - 1$$\n",
    "\n",
    "Trong đó, $AUC$ (Area Under the Curve) là diện tích nằm dưới $ROC$ curve. $ROC$ là một đường cong biểu diễn xác suất. Chỉ số $AUC$ càng gần 1 thì mô hình càng phân loại chính xác. $AUC$ càng gần 0.5 thì hiệu suất phân loại càng tệ còn nếu gần 0 thì mô hình sẽ phân loại ngược kết quả (phân loại dương tính thành âm tính và ngược lại). Ví dụ , $Gini$ đạt giá trị trên 0.6 thì  mô hình tốt.\n"
   ]
  },
  {
   "cell_type": "markdown",
   "metadata": {},
   "source": [
    "#### Confusion Matrix \n",
    "Confusion Matrix là một bảng được sử dụng để mô tả hiệu suất của một mô hình phân loại. Một số định nghĩa:\n",
    "\n",
    "  a. Accuracy: Tỷ lệ tổng số dự đoán đúng.\n",
    "  \n",
    "  b. Precision (Positive Predictive Value): Tỷ lệ các trường hợp dương tính được xác định đúng.\n",
    "  \\begin{equation} Precision=\\frac{TP}{TP+FP} \\end{equation}\n",
    "  \n",
    "  c. Negative Predictive Value: Tỷ lệ các trường hợp âm tính được xác định đúng.\n",
    "  \\begin{equation} Negative Predictive Value=\\frac{TN}{FN+TN} \\end{equation}\n",
    "  \n",
    "  d. Sensitivity (Recall): Tỷ lệ các trường hợp dương tính thực tế được xác định đúng.\n",
    "  \\begin{equation}Recall= \\frac{TP}{TP+FN}\\end{equation}\n",
    "  \n",
    "  e. Specificity : Tỷ lệ các trường hợp âm tính thực tế được xác định đúng.\n",
    "  \\begin{equation} Specificity= \\frac{TN}{FP+TN}\\end{equation}"
   ]
  },
  {
   "cell_type": "markdown",
   "metadata": {},
   "source": [
    "## TIỀN XỬ LÝ DỮ LIỆU"
   ]
  },
  {
   "cell_type": "markdown",
   "metadata": {},
   "source": [
    "###  Khởi tạo, import thư viện, load dữ liệu vào Spark DataFrame"
   ]
  },
  {
   "cell_type": "markdown",
   "metadata": {},
   "source": [
    "#### Khởi tạo PySpark"
   ]
  },
  {
   "cell_type": "code",
   "execution_count": 1,
   "metadata": {},
   "outputs": [],
   "source": [
    "import findspark\n",
    "findspark.init()\n",
    "\n",
    "import pyspark\n",
    "\n",
    "from pyspark import SparkContext\n",
    "sc = SparkContext.getOrCreate()\n",
    "\n",
    "#Spark DataFrame\n",
    "from pyspark.sql import SparkSession\n",
    "spark = SparkSession.builder.getOrCreate()"
   ]
  },
  {
   "cell_type": "markdown",
   "metadata": {
    "collapsed": true
   },
   "source": [
    "#### Import thư viện cần thiết"
   ]
  },
  {
   "cell_type": "code",
   "execution_count": 2,
   "metadata": {},
   "outputs": [],
   "source": [
    "from pyspark.sql.types import IntegerType, StringType, DoubleType, ShortType, DecimalType\n",
    "import pyspark.sql.functions as func\n",
    "from pyspark.sql.functions import isnull\n",
    "from pyspark.sql.functions import isnan, when, count, col, round\n",
    "from pyspark.sql.functions import mean\n",
    "from pyspark.sql.types import Row\n",
    "import matplotlib.pyplot as plt\n",
    "from pyspark.sql.functions import udf\n",
    "\n",
    "\n",
    "# Pandas DF operation\n",
    "import pandas as pd\n",
    "import numpy as np\n",
    "import matplotlib.pyplot as plt\n",
    "import seaborn as sns\n",
    "from numpy import array\n",
    "\n",
    "# Model và Evaluation (đánh giá)\n",
    "from pyspark.ml.feature import VectorAssembler, VectorIndexer, OneHotEncoder, StringIndexer\n",
    "from pyspark.sql.functions import when\n",
    "from pyspark.sql import functions as F\n",
    "from pyspark.sql.functions import avg\n",
    "from pyspark.ml import Pipeline\n",
    "from pyspark.ml.classification import LogisticRegression, RandomForestClassifier, GBTClassifier\n",
    "from pyspark.ml.classification import DecisionTreeClassifier\n",
    "from pyspark.ml.evaluation import BinaryClassificationEvaluator, MulticlassClassificationEvaluator\n",
    "from pyspark.mllib.evaluation import BinaryClassificationMetrics\n",
    "from pyspark.ml.tuning import CrossValidator, ParamGridBuilder \n",
    "from sklearn.metrics import roc_curve, auc\n",
    "from sklearn.metrics import log_loss\n",
    "from pyspark.sql import Window\n",
    "from pyspark.sql.functions import rank,sum,col\n",
    "from pyspark.ml.linalg import Vectors\n",
    "from pyspark.ml.feature import VectorSlicer\n",
    "\n",
    "window = Window.rowsBetween(Window.unboundedPreceding,Window.unboundedFollowing)"
   ]
  },
  {
   "cell_type": "markdown",
   "metadata": {
    "collapsed": true
   },
   "source": [
    "#### Load dữ liệu vào Spark DataFrame"
   ]
  },
  {
   "cell_type": "code",
   "execution_count": 3,
   "metadata": {},
   "outputs": [],
   "source": [
    "# Chọn đường dẫn đến tập data train\n",
    "file_type = 'text'\n",
    "path=r'train.csv'\n",
    "delimeter=','"
   ]
  },
  {
   "cell_type": "code",
   "execution_count": 4,
   "metadata": {},
   "outputs": [],
   "source": [
    "def load_data(file_type):\n",
    "    \"\"\"input type of file \"text\" or \"parquet\" and Return pyspark dataframe\"\"\"\n",
    "    if file_type ==\"text\": # đầu vào ở dạng text\n",
    "        df = spark.read.option(\"header\", \"true\") \\\n",
    "                       .option(\"delimeter\",delimeter)\\\n",
    "                       .option(\"inferSchema\", \"true\") \\\n",
    "                       .csv(path) \n",
    "    else:  \n",
    "        df= spark.read.parquet(\"example.parquet\")\n",
    "    return df"
   ]
  },
  {
   "cell_type": "code",
   "execution_count": 5,
   "metadata": {
    "scrolled": true
   },
   "outputs": [],
   "source": [
    "df = load_data(file_type)"
   ]
  },
  {
   "cell_type": "code",
   "execution_count": 6,
   "metadata": {},
   "outputs": [],
   "source": [
    "# Chọn đường dẫn đến tập data test\n",
    "file_type = 'text'\n",
    "path=r'test.csv'\n",
    "delimeter=','"
   ]
  },
  {
   "cell_type": "code",
   "execution_count": 7,
   "metadata": {},
   "outputs": [],
   "source": [
    "test_data = load_data(file_type)"
   ]
  },
  {
   "cell_type": "code",
   "execution_count": 8,
   "metadata": {},
   "outputs": [
    {
     "name": "stdout",
     "output_type": "stream",
     "text": [
      "Help on function load_data in module __main__:\n",
      "\n",
      "load_data(file_type)\n",
      "    input type of file \"text\" or \"parquet\" and Return pyspark dataframe\n",
      "\n"
     ]
    }
   ],
   "source": [
    "help(load_data)"
   ]
  },
  {
   "cell_type": "markdown",
   "metadata": {},
   "source": [
    "### Kiểm tra dữ liệu\n",
    "Chúng tôi tiến hành kiểm tra thuộc tính của các cột trong dataframe và kiểm tra các cột nào có giá trị bị thiếu (null) trên tập train và tập test ."
   ]
  },
  {
   "cell_type": "code",
   "execution_count": 9,
   "metadata": {},
   "outputs": [
    {
     "data": {
      "text/plain": [
       "pyspark.sql.dataframe.DataFrame"
      ]
     },
     "execution_count": 9,
     "metadata": {},
     "output_type": "execute_result"
    }
   ],
   "source": [
    "type(df)"
   ]
  },
  {
   "cell_type": "code",
   "execution_count": 10,
   "metadata": {},
   "outputs": [
    {
     "data": {
      "text/plain": [
       "pyspark.sql.dataframe.DataFrame"
      ]
     },
     "execution_count": 10,
     "metadata": {},
     "output_type": "execute_result"
    }
   ],
   "source": [
    "type(test_data)"
   ]
  },
  {
   "cell_type": "markdown",
   "metadata": {},
   "source": [
    "Do dữ liệu cũng khá dài nên chúng tôi chỉ hiển thị 1 dòng dữ liệu trong DataFrame."
   ]
  },
  {
   "cell_type": "code",
   "execution_count": 11,
   "metadata": {},
   "outputs": [],
   "source": [
    "# Thực hiện trên tập train\n",
    "# df.show(1)"
   ]
  },
  {
   "cell_type": "code",
   "execution_count": 12,
   "metadata": {},
   "outputs": [],
   "source": [
    "# Thực hiện tương tự trên tập test\n",
    "#test_data.show(1)"
   ]
  },
  {
   "cell_type": "code",
   "execution_count": 13,
   "metadata": {},
   "outputs": [
    {
     "name": "stdout",
     "output_type": "stream",
     "text": [
      "root\n",
      " |-- QuoteNumber: integer (nullable = true)\n",
      " |-- Original_Quote_Date: string (nullable = true)\n",
      " |-- QuoteConversion_Flag: integer (nullable = true)\n",
      " |-- Field6: string (nullable = true)\n",
      " |-- Field7: integer (nullable = true)\n",
      " |-- Field8: double (nullable = true)\n",
      " |-- Field9: double (nullable = true)\n",
      " |-- Field10: string (nullable = true)\n",
      " |-- Field11: double (nullable = true)\n",
      " |-- Field12: string (nullable = true)\n",
      " |-- CoverageField1A: integer (nullable = true)\n",
      " |-- CoverageField1B: integer (nullable = true)\n",
      " |-- CoverageField2A: integer (nullable = true)\n",
      " |-- CoverageField2B: integer (nullable = true)\n",
      " |-- CoverageField3A: integer (nullable = true)\n",
      " |-- CoverageField3B: integer (nullable = true)\n",
      " |-- CoverageField4A: integer (nullable = true)\n",
      " |-- CoverageField4B: integer (nullable = true)\n",
      " |-- CoverageField5A: integer (nullable = true)\n",
      " |-- CoverageField5B: integer (nullable = true)\n",
      " |-- CoverageField6A: integer (nullable = true)\n",
      " |-- CoverageField6B: integer (nullable = true)\n",
      " |-- CoverageField8: string (nullable = true)\n",
      " |-- CoverageField9: string (nullable = true)\n",
      " |-- CoverageField11A: integer (nullable = true)\n",
      " |-- CoverageField11B: integer (nullable = true)\n",
      " |-- SalesField1A: integer (nullable = true)\n",
      " |-- SalesField1B: integer (nullable = true)\n",
      " |-- SalesField2A: integer (nullable = true)\n",
      " |-- SalesField2B: integer (nullable = true)\n",
      " |-- SalesField3: integer (nullable = true)\n",
      " |-- SalesField4: integer (nullable = true)\n",
      " |-- SalesField5: integer (nullable = true)\n",
      " |-- SalesField6: integer (nullable = true)\n",
      " |-- SalesField7: string (nullable = true)\n",
      " |-- SalesField8: integer (nullable = true)\n",
      " |-- SalesField9: integer (nullable = true)\n",
      " |-- SalesField10: integer (nullable = true)\n",
      " |-- SalesField11: integer (nullable = true)\n",
      " |-- SalesField12: integer (nullable = true)\n",
      " |-- SalesField13: integer (nullable = true)\n",
      " |-- SalesField14: integer (nullable = true)\n",
      " |-- SalesField15: integer (nullable = true)\n",
      " |-- PersonalField1: integer (nullable = true)\n",
      " |-- PersonalField2: integer (nullable = true)\n",
      " |-- PersonalField4A: integer (nullable = true)\n",
      " |-- PersonalField4B: integer (nullable = true)\n",
      " |-- PersonalField5: integer (nullable = true)\n",
      " |-- PersonalField6: integer (nullable = true)\n",
      " |-- PersonalField7: string (nullable = true)\n",
      " |-- PersonalField8: integer (nullable = true)\n",
      " |-- PersonalField9: integer (nullable = true)\n",
      " |-- PersonalField10A: integer (nullable = true)\n",
      " |-- PersonalField10B: integer (nullable = true)\n",
      " |-- PersonalField11: integer (nullable = true)\n",
      " |-- PersonalField12: integer (nullable = true)\n",
      " |-- PersonalField13: integer (nullable = true)\n",
      " |-- PersonalField14: integer (nullable = true)\n",
      " |-- PersonalField15: integer (nullable = true)\n",
      " |-- PersonalField16: string (nullable = true)\n",
      " |-- PersonalField17: string (nullable = true)\n",
      " |-- PersonalField18: string (nullable = true)\n",
      " |-- PersonalField19: string (nullable = true)\n",
      " |-- PersonalField22: integer (nullable = true)\n",
      " |-- PersonalField23: integer (nullable = true)\n",
      " |-- PersonalField24: integer (nullable = true)\n",
      " |-- PersonalField25: integer (nullable = true)\n",
      " |-- PersonalField26: integer (nullable = true)\n",
      " |-- PersonalField27: integer (nullable = true)\n",
      " |-- PersonalField28: integer (nullable = true)\n",
      " |-- PersonalField29: integer (nullable = true)\n",
      " |-- PersonalField30: integer (nullable = true)\n",
      " |-- PersonalField31: integer (nullable = true)\n",
      " |-- PersonalField32: integer (nullable = true)\n",
      " |-- PersonalField33: integer (nullable = true)\n",
      " |-- PersonalField34: integer (nullable = true)\n",
      " |-- PersonalField35: integer (nullable = true)\n",
      " |-- PersonalField36: integer (nullable = true)\n",
      " |-- PersonalField37: integer (nullable = true)\n",
      " |-- PersonalField38: integer (nullable = true)\n",
      " |-- PersonalField39: integer (nullable = true)\n",
      " |-- PersonalField40: integer (nullable = true)\n",
      " |-- PersonalField41: integer (nullable = true)\n",
      " |-- PersonalField42: integer (nullable = true)\n",
      " |-- PersonalField43: integer (nullable = true)\n",
      " |-- PersonalField44: integer (nullable = true)\n",
      " |-- PersonalField45: integer (nullable = true)\n",
      " |-- PersonalField46: integer (nullable = true)\n",
      " |-- PersonalField47: integer (nullable = true)\n",
      " |-- PersonalField48: integer (nullable = true)\n",
      " |-- PersonalField49: integer (nullable = true)\n",
      " |-- PersonalField50: integer (nullable = true)\n",
      " |-- PersonalField51: integer (nullable = true)\n",
      " |-- PersonalField52: integer (nullable = true)\n",
      " |-- PersonalField53: integer (nullable = true)\n",
      " |-- PersonalField54: integer (nullable = true)\n",
      " |-- PersonalField55: integer (nullable = true)\n",
      " |-- PersonalField56: integer (nullable = true)\n",
      " |-- PersonalField57: integer (nullable = true)\n",
      " |-- PersonalField58: integer (nullable = true)\n",
      " |-- PersonalField59: integer (nullable = true)\n",
      " |-- PersonalField60: integer (nullable = true)\n",
      " |-- PersonalField61: integer (nullable = true)\n",
      " |-- PersonalField62: integer (nullable = true)\n",
      " |-- PersonalField63: integer (nullable = true)\n",
      " |-- PersonalField64: integer (nullable = true)\n",
      " |-- PersonalField65: integer (nullable = true)\n",
      " |-- PersonalField66: integer (nullable = true)\n",
      " |-- PersonalField67: integer (nullable = true)\n",
      " |-- PersonalField68: integer (nullable = true)\n",
      " |-- PersonalField69: integer (nullable = true)\n",
      " |-- PersonalField70: integer (nullable = true)\n",
      " |-- PersonalField71: integer (nullable = true)\n",
      " |-- PersonalField72: integer (nullable = true)\n",
      " |-- PersonalField73: integer (nullable = true)\n",
      " |-- PersonalField74: integer (nullable = true)\n",
      " |-- PersonalField75: integer (nullable = true)\n",
      " |-- PersonalField76: integer (nullable = true)\n",
      " |-- PersonalField77: integer (nullable = true)\n",
      " |-- PersonalField78: integer (nullable = true)\n",
      " |-- PersonalField79: integer (nullable = true)\n",
      " |-- PersonalField80: integer (nullable = true)\n",
      " |-- PersonalField81: integer (nullable = true)\n",
      " |-- PersonalField82: integer (nullable = true)\n",
      " |-- PersonalField83: integer (nullable = true)\n",
      " |-- PersonalField84: integer (nullable = true)\n",
      " |-- PropertyField1A: integer (nullable = true)\n",
      " |-- PropertyField1B: integer (nullable = true)\n",
      " |-- PropertyField2A: integer (nullable = true)\n",
      " |-- PropertyField2B: integer (nullable = true)\n",
      " |-- PropertyField3: string (nullable = true)\n",
      " |-- PropertyField4: string (nullable = true)\n",
      " |-- PropertyField5: string (nullable = true)\n",
      " |-- PropertyField6: integer (nullable = true)\n",
      " |-- PropertyField7: string (nullable = true)\n",
      " |-- PropertyField8: integer (nullable = true)\n",
      " |-- PropertyField9: integer (nullable = true)\n",
      " |-- PropertyField10: integer (nullable = true)\n",
      " |-- PropertyField11A: integer (nullable = true)\n",
      " |-- PropertyField11B: integer (nullable = true)\n",
      " |-- PropertyField12: integer (nullable = true)\n",
      " |-- PropertyField13: integer (nullable = true)\n",
      " |-- PropertyField14: string (nullable = true)\n",
      " |-- PropertyField15: integer (nullable = true)\n",
      " |-- PropertyField16A: integer (nullable = true)\n",
      " |-- PropertyField16B: integer (nullable = true)\n",
      " |-- PropertyField17: integer (nullable = true)\n",
      " |-- PropertyField18: integer (nullable = true)\n",
      " |-- PropertyField19: integer (nullable = true)\n",
      " |-- PropertyField20: integer (nullable = true)\n",
      " |-- PropertyField21A: integer (nullable = true)\n",
      " |-- PropertyField21B: integer (nullable = true)\n",
      " |-- PropertyField22: integer (nullable = true)\n",
      " |-- PropertyField23: integer (nullable = true)\n",
      " |-- PropertyField24A: integer (nullable = true)\n",
      " |-- PropertyField24B: integer (nullable = true)\n",
      " |-- PropertyField25: double (nullable = true)\n",
      " |-- PropertyField26A: integer (nullable = true)\n",
      " |-- PropertyField26B: integer (nullable = true)\n",
      " |-- PropertyField27: integer (nullable = true)\n",
      " |-- PropertyField28: string (nullable = true)\n",
      " |-- PropertyField29: integer (nullable = true)\n",
      " |-- PropertyField30: string (nullable = true)\n",
      " |-- PropertyField31: string (nullable = true)\n",
      " |-- PropertyField32: string (nullable = true)\n",
      " |-- PropertyField33: string (nullable = true)\n",
      " |-- PropertyField34: string (nullable = true)\n",
      " |-- PropertyField35: integer (nullable = true)\n",
      " |-- PropertyField36: string (nullable = true)\n",
      " |-- PropertyField37: string (nullable = true)\n",
      " |-- PropertyField38: string (nullable = true)\n",
      " |-- PropertyField39A: integer (nullable = true)\n",
      " |-- PropertyField39B: integer (nullable = true)\n",
      " |-- GeographicField1A: integer (nullable = true)\n",
      " |-- GeographicField1B: integer (nullable = true)\n",
      " |-- GeographicField2A: integer (nullable = true)\n",
      " |-- GeographicField2B: integer (nullable = true)\n",
      " |-- GeographicField3A: integer (nullable = true)\n",
      " |-- GeographicField3B: integer (nullable = true)\n",
      " |-- GeographicField4A: integer (nullable = true)\n",
      " |-- GeographicField4B: integer (nullable = true)\n",
      " |-- GeographicField5A: integer (nullable = true)\n",
      " |-- GeographicField5B: integer (nullable = true)\n",
      " |-- GeographicField6A: integer (nullable = true)\n",
      " |-- GeographicField6B: integer (nullable = true)\n",
      " |-- GeographicField7A: integer (nullable = true)\n",
      " |-- GeographicField7B: integer (nullable = true)\n",
      " |-- GeographicField8A: integer (nullable = true)\n",
      " |-- GeographicField8B: integer (nullable = true)\n",
      " |-- GeographicField9A: integer (nullable = true)\n",
      " |-- GeographicField9B: integer (nullable = true)\n",
      " |-- GeographicField10A: integer (nullable = true)\n",
      " |-- GeographicField10B: integer (nullable = true)\n",
      " |-- GeographicField11A: integer (nullable = true)\n",
      " |-- GeographicField11B: integer (nullable = true)\n",
      " |-- GeographicField12A: integer (nullable = true)\n",
      " |-- GeographicField12B: integer (nullable = true)\n",
      " |-- GeographicField13A: integer (nullable = true)\n",
      " |-- GeographicField13B: integer (nullable = true)\n",
      " |-- GeographicField14A: integer (nullable = true)\n",
      " |-- GeographicField14B: integer (nullable = true)\n",
      " |-- GeographicField15A: integer (nullable = true)\n",
      " |-- GeographicField15B: integer (nullable = true)\n",
      " |-- GeographicField16A: integer (nullable = true)\n",
      " |-- GeographicField16B: integer (nullable = true)\n",
      " |-- GeographicField17A: integer (nullable = true)\n",
      " |-- GeographicField17B: integer (nullable = true)\n",
      " |-- GeographicField18A: integer (nullable = true)\n",
      " |-- GeographicField18B: integer (nullable = true)\n",
      " |-- GeographicField19A: integer (nullable = true)\n",
      " |-- GeographicField19B: integer (nullable = true)\n",
      " |-- GeographicField20A: integer (nullable = true)\n",
      " |-- GeographicField20B: integer (nullable = true)\n",
      " |-- GeographicField21A: integer (nullable = true)\n",
      " |-- GeographicField21B: integer (nullable = true)\n",
      " |-- GeographicField22A: integer (nullable = true)\n",
      " |-- GeographicField22B: integer (nullable = true)\n",
      " |-- GeographicField23A: integer (nullable = true)\n",
      " |-- GeographicField23B: integer (nullable = true)\n",
      " |-- GeographicField24A: integer (nullable = true)\n",
      " |-- GeographicField24B: integer (nullable = true)\n",
      " |-- GeographicField25A: integer (nullable = true)\n",
      " |-- GeographicField25B: integer (nullable = true)\n",
      " |-- GeographicField26A: integer (nullable = true)\n",
      " |-- GeographicField26B: integer (nullable = true)\n",
      " |-- GeographicField27A: integer (nullable = true)\n",
      " |-- GeographicField27B: integer (nullable = true)\n",
      " |-- GeographicField28A: integer (nullable = true)\n",
      " |-- GeographicField28B: integer (nullable = true)\n",
      " |-- GeographicField29A: integer (nullable = true)\n",
      " |-- GeographicField29B: integer (nullable = true)\n",
      " |-- GeographicField30A: integer (nullable = true)\n",
      " |-- GeographicField30B: integer (nullable = true)\n",
      " |-- GeographicField31A: integer (nullable = true)\n",
      " |-- GeographicField31B: integer (nullable = true)\n",
      " |-- GeographicField32A: integer (nullable = true)\n",
      " |-- GeographicField32B: integer (nullable = true)\n",
      " |-- GeographicField33A: integer (nullable = true)\n",
      " |-- GeographicField33B: integer (nullable = true)\n",
      " |-- GeographicField34A: integer (nullable = true)\n",
      " |-- GeographicField34B: integer (nullable = true)\n",
      " |-- GeographicField35A: integer (nullable = true)\n",
      " |-- GeographicField35B: integer (nullable = true)\n",
      " |-- GeographicField36A: integer (nullable = true)\n",
      " |-- GeographicField36B: integer (nullable = true)\n",
      " |-- GeographicField37A: integer (nullable = true)\n",
      " |-- GeographicField37B: integer (nullable = true)\n",
      " |-- GeographicField38A: integer (nullable = true)\n",
      " |-- GeographicField38B: integer (nullable = true)\n",
      " |-- GeographicField39A: integer (nullable = true)\n",
      " |-- GeographicField39B: integer (nullable = true)\n",
      " |-- GeographicField40A: integer (nullable = true)\n",
      " |-- GeographicField40B: integer (nullable = true)\n",
      " |-- GeographicField41A: integer (nullable = true)\n",
      " |-- GeographicField41B: integer (nullable = true)\n",
      " |-- GeographicField42A: integer (nullable = true)\n",
      " |-- GeographicField42B: integer (nullable = true)\n",
      " |-- GeographicField43A: integer (nullable = true)\n",
      " |-- GeographicField43B: integer (nullable = true)\n",
      " |-- GeographicField44A: integer (nullable = true)\n",
      " |-- GeographicField44B: integer (nullable = true)\n",
      " |-- GeographicField45A: integer (nullable = true)\n",
      " |-- GeographicField45B: integer (nullable = true)\n",
      " |-- GeographicField46A: integer (nullable = true)\n",
      " |-- GeographicField46B: integer (nullable = true)\n",
      " |-- GeographicField47A: integer (nullable = true)\n",
      " |-- GeographicField47B: integer (nullable = true)\n",
      " |-- GeographicField48A: integer (nullable = true)\n",
      " |-- GeographicField48B: integer (nullable = true)\n",
      " |-- GeographicField49A: integer (nullable = true)\n",
      " |-- GeographicField49B: integer (nullable = true)\n",
      " |-- GeographicField50A: integer (nullable = true)\n",
      " |-- GeographicField50B: integer (nullable = true)\n",
      " |-- GeographicField51A: integer (nullable = true)\n",
      " |-- GeographicField51B: integer (nullable = true)\n",
      " |-- GeographicField52A: integer (nullable = true)\n",
      " |-- GeographicField52B: integer (nullable = true)\n",
      " |-- GeographicField53A: integer (nullable = true)\n",
      " |-- GeographicField53B: integer (nullable = true)\n",
      " |-- GeographicField54A: integer (nullable = true)\n",
      " |-- GeographicField54B: integer (nullable = true)\n",
      " |-- GeographicField55A: integer (nullable = true)\n",
      " |-- GeographicField55B: integer (nullable = true)\n",
      " |-- GeographicField56A: integer (nullable = true)\n",
      " |-- GeographicField56B: integer (nullable = true)\n",
      " |-- GeographicField57A: integer (nullable = true)\n",
      " |-- GeographicField57B: integer (nullable = true)\n",
      " |-- GeographicField58A: integer (nullable = true)\n",
      " |-- GeographicField58B: integer (nullable = true)\n",
      " |-- GeographicField59A: integer (nullable = true)\n",
      " |-- GeographicField59B: integer (nullable = true)\n",
      " |-- GeographicField60A: integer (nullable = true)\n",
      " |-- GeographicField60B: integer (nullable = true)\n",
      " |-- GeographicField61A: integer (nullable = true)\n",
      " |-- GeographicField61B: integer (nullable = true)\n",
      " |-- GeographicField62A: integer (nullable = true)\n",
      " |-- GeographicField62B: integer (nullable = true)\n",
      " |-- GeographicField63: string (nullable = true)\n",
      " |-- GeographicField64: string (nullable = true)\n",
      "\n"
     ]
    },
    {
     "data": {
      "text/plain": [
       "(299, None)"
      ]
     },
     "execution_count": 13,
     "metadata": {},
     "output_type": "execute_result"
    }
   ],
   "source": [
    "# Kiểm tra thuộc tính của các cột trong DataFrame và kiểm tra các cột nào có giá trị bị thiếu (null)\n",
    "# Kiểm tra trên tập train\n",
    "len(df.columns), df.printSchema()"
   ]
  },
  {
   "cell_type": "markdown",
   "metadata": {},
   "source": [
    "Do các khá là nhiều cột dữ liệu nên nếu các bạn muốn chạy để kiểm tra trên tập test thì các bạn mở comment bên dưới ra."
   ]
  },
  {
   "cell_type": "code",
   "execution_count": 14,
   "metadata": {},
   "outputs": [],
   "source": [
    "# Tương tự chúng tôi kiểm tra trên tập test\n",
    "#test_data.printSchema(), len (test_data.columns)"
   ]
  },
  {
   "cell_type": "markdown",
   "metadata": {},
   "source": [
    "Đổi tên các cột ‘QuoteConversion_Flag’ thành ‘label’ và 'QuoteNumber' thành 'Id' để thuận tiện cho việc xây dựng mô hình."
   ]
  },
  {
   "cell_type": "code",
   "execution_count": 15,
   "metadata": {},
   "outputs": [],
   "source": [
    "# Đổi tên cột 'QuoteConversion_Flag' thành 'label' trên tập train\n",
    "df = df.withColumnRenamed('QuoteConversion_Flag','label')\n",
    "# Đổi tên cột 'QuoteNumber' thành 'Id' trên tập train\n",
    "df = df.withColumnRenamed('QuoteNumber','Id')"
   ]
  },
  {
   "cell_type": "code",
   "execution_count": 16,
   "metadata": {},
   "outputs": [],
   "source": [
    "# Đổi tên cột 'QuoteNumber' thành 'Id' trên tập test\n",
    "test_data = test_data.withColumnRenamed('QuoteNumber','Id')"
   ]
  },
  {
   "cell_type": "code",
   "execution_count": 17,
   "metadata": {},
   "outputs": [],
   "source": [
    "# Kiểm tra lại các thuộc tính của tập train\n",
    "#len(df.columns), df.printSchema()"
   ]
  },
  {
   "cell_type": "markdown",
   "metadata": {},
   "source": [
    "Dữ liệu ngày tháng không liên quan đến việc phân loại nên chúng tôi sẽ xóa cột này khỏi các tập dữ liệu."
   ]
  },
  {
   "cell_type": "code",
   "execution_count": 18,
   "metadata": {},
   "outputs": [],
   "source": [
    "# xóa cột ngày tháng Original_Quote_Date từ tập train\n",
    "df_final=df.drop('Original_Quote_Date')\n",
    "\n",
    "# xóa cột ngày tháng Original_Quote_Date từ tập test\n",
    "test_data=test_data.drop('Original_Quote_Date')"
   ]
  },
  {
   "cell_type": "markdown",
   "metadata": {},
   "source": [
    "Thống kê các khách hàng đã mua bảo hiểm (0) và không mua bảo hiểm (1) trong tập train. Ở tập train có đến 81.2% khách hàng là mua bảo hiểm và 18.8% khách hàng là không mua bảo hiểm."
   ]
  },
  {
   "cell_type": "code",
   "execution_count": 19,
   "metadata": {},
   "outputs": [],
   "source": [
    "target_percent=df_final.groupBy('label').count().sort(col(\"count\").desc())\\\n",
    "                        .withColumn('total',sum(col('count')).over(window))\\\n",
    "                        .withColumn('Percent',col('count')*100/col('total')) "
   ]
  },
  {
   "cell_type": "code",
   "execution_count": 20,
   "metadata": {},
   "outputs": [
    {
     "name": "stdout",
     "output_type": "stream",
     "text": [
      "+-----+------+------+-----------------+\n",
      "|label| count| total|          Percent|\n",
      "+-----+------+------+-----------------+\n",
      "|    0|211859|260753|81.24892139304245|\n",
      "|    1| 48894|260753|18.75107860695754|\n",
      "+-----+------+------+-----------------+\n",
      "\n"
     ]
    }
   ],
   "source": [
    "target_percent.show()"
   ]
  },
  {
   "cell_type": "markdown",
   "metadata": {},
   "source": [
    "###   Xác định các categorical variable ( biến phân loại) và nummerical variable ( biến số)\n",
    "Categorical variable là các biến có chứa giá trị string chứ không phải là giá trị số.\n",
    "\n",
    "Numerical variable là các biến chứa giá trị số (integer và double).\n",
    "#### Xác định các categorical variable ( biến phân loại) và nummerical variable ( biến số) trong tập train\n"
   ]
  },
  {
   "cell_type": "code",
   "execution_count": 21,
   "metadata": {},
   "outputs": [
    {
     "name": "stdout",
     "output_type": "stream",
     "text": [
      "cat_cols: ['Field6', 'Field10', 'Field12', 'CoverageField8', 'CoverageField9', 'SalesField7', 'PersonalField7', 'PersonalField16', 'PersonalField17', 'PersonalField18', 'PersonalField19', 'PropertyField3', 'PropertyField4', 'PropertyField5', 'PropertyField7', 'PropertyField14', 'PropertyField28', 'PropertyField30', 'PropertyField31', 'PropertyField32', 'PropertyField33', 'PropertyField34', 'PropertyField36', 'PropertyField37', 'PropertyField38', 'GeographicField63', 'GeographicField64']\n",
      "num_cols: ['Id', 'label', 'Field7', 'Field8', 'Field9', 'Field11', 'CoverageField1A', 'CoverageField1B', 'CoverageField2A', 'CoverageField2B', 'CoverageField3A', 'CoverageField3B', 'CoverageField4A', 'CoverageField4B', 'CoverageField5A', 'CoverageField5B', 'CoverageField6A', 'CoverageField6B', 'CoverageField11A', 'CoverageField11B', 'SalesField1A', 'SalesField1B', 'SalesField2A', 'SalesField2B', 'SalesField3', 'SalesField4', 'SalesField5', 'SalesField6', 'SalesField8', 'SalesField9', 'SalesField10', 'SalesField11', 'SalesField12', 'SalesField13', 'SalesField14', 'SalesField15', 'PersonalField1', 'PersonalField2', 'PersonalField4A', 'PersonalField4B', 'PersonalField5', 'PersonalField6', 'PersonalField8', 'PersonalField9', 'PersonalField10A', 'PersonalField10B', 'PersonalField11', 'PersonalField12', 'PersonalField13', 'PersonalField14', 'PersonalField15', 'PersonalField22', 'PersonalField23', 'PersonalField24', 'PersonalField25', 'PersonalField26', 'PersonalField27', 'PersonalField28', 'PersonalField29', 'PersonalField30', 'PersonalField31', 'PersonalField32', 'PersonalField33', 'PersonalField34', 'PersonalField35', 'PersonalField36', 'PersonalField37', 'PersonalField38', 'PersonalField39', 'PersonalField40', 'PersonalField41', 'PersonalField42', 'PersonalField43', 'PersonalField44', 'PersonalField45', 'PersonalField46', 'PersonalField47', 'PersonalField48', 'PersonalField49', 'PersonalField50', 'PersonalField51', 'PersonalField52', 'PersonalField53', 'PersonalField54', 'PersonalField55', 'PersonalField56', 'PersonalField57', 'PersonalField58', 'PersonalField59', 'PersonalField60', 'PersonalField61', 'PersonalField62', 'PersonalField63', 'PersonalField64', 'PersonalField65', 'PersonalField66', 'PersonalField67', 'PersonalField68', 'PersonalField69', 'PersonalField70', 'PersonalField71', 'PersonalField72', 'PersonalField73', 'PersonalField74', 'PersonalField75', 'PersonalField76', 'PersonalField77', 'PersonalField78', 'PersonalField79', 'PersonalField80', 'PersonalField81', 'PersonalField82', 'PersonalField83', 'PersonalField84', 'PropertyField1A', 'PropertyField1B', 'PropertyField2A', 'PropertyField2B', 'PropertyField6', 'PropertyField8', 'PropertyField9', 'PropertyField10', 'PropertyField11A', 'PropertyField11B', 'PropertyField12', 'PropertyField13', 'PropertyField15', 'PropertyField16A', 'PropertyField16B', 'PropertyField17', 'PropertyField18', 'PropertyField19', 'PropertyField20', 'PropertyField21A', 'PropertyField21B', 'PropertyField22', 'PropertyField23', 'PropertyField24A', 'PropertyField24B', 'PropertyField25', 'PropertyField26A', 'PropertyField26B', 'PropertyField27', 'PropertyField29', 'PropertyField35', 'PropertyField39A', 'PropertyField39B', 'GeographicField1A', 'GeographicField1B', 'GeographicField2A', 'GeographicField2B', 'GeographicField3A', 'GeographicField3B', 'GeographicField4A', 'GeographicField4B', 'GeographicField5A', 'GeographicField5B', 'GeographicField6A', 'GeographicField6B', 'GeographicField7A', 'GeographicField7B', 'GeographicField8A', 'GeographicField8B', 'GeographicField9A', 'GeographicField9B', 'GeographicField10A', 'GeographicField10B', 'GeographicField11A', 'GeographicField11B', 'GeographicField12A', 'GeographicField12B', 'GeographicField13A', 'GeographicField13B', 'GeographicField14A', 'GeographicField14B', 'GeographicField15A', 'GeographicField15B', 'GeographicField16A', 'GeographicField16B', 'GeographicField17A', 'GeographicField17B', 'GeographicField18A', 'GeographicField18B', 'GeographicField19A', 'GeographicField19B', 'GeographicField20A', 'GeographicField20B', 'GeographicField21A', 'GeographicField21B', 'GeographicField22A', 'GeographicField22B', 'GeographicField23A', 'GeographicField23B', 'GeographicField24A', 'GeographicField24B', 'GeographicField25A', 'GeographicField25B', 'GeographicField26A', 'GeographicField26B', 'GeographicField27A', 'GeographicField27B', 'GeographicField28A', 'GeographicField28B', 'GeographicField29A', 'GeographicField29B', 'GeographicField30A', 'GeographicField30B', 'GeographicField31A', 'GeographicField31B', 'GeographicField32A', 'GeographicField32B', 'GeographicField33A', 'GeographicField33B', 'GeographicField34A', 'GeographicField34B', 'GeographicField35A', 'GeographicField35B', 'GeographicField36A', 'GeographicField36B', 'GeographicField37A', 'GeographicField37B', 'GeographicField38A', 'GeographicField38B', 'GeographicField39A', 'GeographicField39B', 'GeographicField40A', 'GeographicField40B', 'GeographicField41A', 'GeographicField41B', 'GeographicField42A', 'GeographicField42B', 'GeographicField43A', 'GeographicField43B', 'GeographicField44A', 'GeographicField44B', 'GeographicField45A', 'GeographicField45B', 'GeographicField46A', 'GeographicField46B', 'GeographicField47A', 'GeographicField47B', 'GeographicField48A', 'GeographicField48B', 'GeographicField49A', 'GeographicField49B', 'GeographicField50A', 'GeographicField50B', 'GeographicField51A', 'GeographicField51B', 'GeographicField52A', 'GeographicField52B', 'GeographicField53A', 'GeographicField53B', 'GeographicField54A', 'GeographicField54B', 'GeographicField55A', 'GeographicField55B', 'GeographicField56A', 'GeographicField56B', 'GeographicField57A', 'GeographicField57B', 'GeographicField58A', 'GeographicField58B', 'GeographicField59A', 'GeographicField59B', 'GeographicField60A', 'GeographicField60B', 'GeographicField61A', 'GeographicField61B', 'GeographicField62A', 'GeographicField62B']\n"
     ]
    }
   ],
   "source": [
    "# Xác định Categorical variable\n",
    "cat_cols = [item[0] for item in df_final.dtypes if item[1].startswith('string')] \n",
    "print(\"cat_cols:\", cat_cols)\n",
    "\n",
    "# Xác định Numerical variable\n",
    "num_cols = [item[0] for item in df_final.dtypes if item[1].startswith('int') | item[1].startswith('double')] \n",
    "print(\"num_cols:\", num_cols)"
   ]
  },
  {
   "cell_type": "code",
   "execution_count": 22,
   "metadata": {},
   "outputs": [
    {
     "name": "stdout",
     "output_type": "stream",
     "text": [
      "num_id: Id\n",
      "['Id']\n",
      "num_cols: ['Field7', 'Field8', 'Field9', 'Field11', 'CoverageField1A', 'CoverageField1B', 'CoverageField2A', 'CoverageField2B', 'CoverageField3A', 'CoverageField3B', 'CoverageField4A', 'CoverageField4B', 'CoverageField5A', 'CoverageField5B', 'CoverageField6A', 'CoverageField6B', 'CoverageField11A', 'CoverageField11B', 'SalesField1A', 'SalesField1B', 'SalesField2A', 'SalesField2B', 'SalesField3', 'SalesField4', 'SalesField5', 'SalesField6', 'SalesField8', 'SalesField9', 'SalesField10', 'SalesField11', 'SalesField12', 'SalesField13', 'SalesField14', 'SalesField15', 'PersonalField1', 'PersonalField2', 'PersonalField4A', 'PersonalField4B', 'PersonalField5', 'PersonalField6', 'PersonalField8', 'PersonalField9', 'PersonalField10A', 'PersonalField10B', 'PersonalField11', 'PersonalField12', 'PersonalField13', 'PersonalField14', 'PersonalField15', 'PersonalField22', 'PersonalField23', 'PersonalField24', 'PersonalField25', 'PersonalField26', 'PersonalField27', 'PersonalField28', 'PersonalField29', 'PersonalField30', 'PersonalField31', 'PersonalField32', 'PersonalField33', 'PersonalField34', 'PersonalField35', 'PersonalField36', 'PersonalField37', 'PersonalField38', 'PersonalField39', 'PersonalField40', 'PersonalField41', 'PersonalField42', 'PersonalField43', 'PersonalField44', 'PersonalField45', 'PersonalField46', 'PersonalField47', 'PersonalField48', 'PersonalField49', 'PersonalField50', 'PersonalField51', 'PersonalField52', 'PersonalField53', 'PersonalField54', 'PersonalField55', 'PersonalField56', 'PersonalField57', 'PersonalField58', 'PersonalField59', 'PersonalField60', 'PersonalField61', 'PersonalField62', 'PersonalField63', 'PersonalField64', 'PersonalField65', 'PersonalField66', 'PersonalField67', 'PersonalField68', 'PersonalField69', 'PersonalField70', 'PersonalField71', 'PersonalField72', 'PersonalField73', 'PersonalField74', 'PersonalField75', 'PersonalField76', 'PersonalField77', 'PersonalField78', 'PersonalField79', 'PersonalField80', 'PersonalField81', 'PersonalField82', 'PersonalField83', 'PersonalField84', 'PropertyField1A', 'PropertyField1B', 'PropertyField2A', 'PropertyField2B', 'PropertyField6', 'PropertyField8', 'PropertyField9', 'PropertyField10', 'PropertyField11A', 'PropertyField11B', 'PropertyField12', 'PropertyField13', 'PropertyField15', 'PropertyField16A', 'PropertyField16B', 'PropertyField17', 'PropertyField18', 'PropertyField19', 'PropertyField20', 'PropertyField21A', 'PropertyField21B', 'PropertyField22', 'PropertyField23', 'PropertyField24A', 'PropertyField24B', 'PropertyField25', 'PropertyField26A', 'PropertyField26B', 'PropertyField27', 'PropertyField29', 'PropertyField35', 'PropertyField39A', 'PropertyField39B', 'GeographicField1A', 'GeographicField1B', 'GeographicField2A', 'GeographicField2B', 'GeographicField3A', 'GeographicField3B', 'GeographicField4A', 'GeographicField4B', 'GeographicField5A', 'GeographicField5B', 'GeographicField6A', 'GeographicField6B', 'GeographicField7A', 'GeographicField7B', 'GeographicField8A', 'GeographicField8B', 'GeographicField9A', 'GeographicField9B', 'GeographicField10A', 'GeographicField10B', 'GeographicField11A', 'GeographicField11B', 'GeographicField12A', 'GeographicField12B', 'GeographicField13A', 'GeographicField13B', 'GeographicField14A', 'GeographicField14B', 'GeographicField15A', 'GeographicField15B', 'GeographicField16A', 'GeographicField16B', 'GeographicField17A', 'GeographicField17B', 'GeographicField18A', 'GeographicField18B', 'GeographicField19A', 'GeographicField19B', 'GeographicField20A', 'GeographicField20B', 'GeographicField21A', 'GeographicField21B', 'GeographicField22A', 'GeographicField22B', 'GeographicField23A', 'GeographicField23B', 'GeographicField24A', 'GeographicField24B', 'GeographicField25A', 'GeographicField25B', 'GeographicField26A', 'GeographicField26B', 'GeographicField27A', 'GeographicField27B', 'GeographicField28A', 'GeographicField28B', 'GeographicField29A', 'GeographicField29B', 'GeographicField30A', 'GeographicField30B', 'GeographicField31A', 'GeographicField31B', 'GeographicField32A', 'GeographicField32B', 'GeographicField33A', 'GeographicField33B', 'GeographicField34A', 'GeographicField34B', 'GeographicField35A', 'GeographicField35B', 'GeographicField36A', 'GeographicField36B', 'GeographicField37A', 'GeographicField37B', 'GeographicField38A', 'GeographicField38B', 'GeographicField39A', 'GeographicField39B', 'GeographicField40A', 'GeographicField40B', 'GeographicField41A', 'GeographicField41B', 'GeographicField42A', 'GeographicField42B', 'GeographicField43A', 'GeographicField43B', 'GeographicField44A', 'GeographicField44B', 'GeographicField45A', 'GeographicField45B', 'GeographicField46A', 'GeographicField46B', 'GeographicField47A', 'GeographicField47B', 'GeographicField48A', 'GeographicField48B', 'GeographicField49A', 'GeographicField49B', 'GeographicField50A', 'GeographicField50B', 'GeographicField51A', 'GeographicField51B', 'GeographicField52A', 'GeographicField52B', 'GeographicField53A', 'GeographicField53B', 'GeographicField54A', 'GeographicField54B', 'GeographicField55A', 'GeographicField55B', 'GeographicField56A', 'GeographicField56B', 'GeographicField57A', 'GeographicField57B', 'GeographicField58A', 'GeographicField58B', 'GeographicField59A', 'GeographicField59B', 'GeographicField60A', 'GeographicField60B', 'GeographicField61A', 'GeographicField61B', 'GeographicField62A', 'GeographicField62B']\n"
     ]
    }
   ],
   "source": [
    "# Chọn cột 'Id' từ  num_cols\n",
    "num_id=num_cols.pop(0)\n",
    "print(\"num_id:\", num_id)\n",
    "\n",
    "# Lưu cột 'Id' trong num_id variable\n",
    "num_id=[num_id]\n",
    "print(num_id)\n",
    "\n",
    "# Xóa cột 'label' trong numerical columns\n",
    "# 'label' bị xóa vì mục tiêu validate mô hình\n",
    "num_cols.remove('label') \n",
    "print(\"num_cols:\", num_cols)"
   ]
  },
  {
   "cell_type": "markdown",
   "metadata": {},
   "source": [
    "Kiểm tra lại số dòng trên tập train"
   ]
  },
  {
   "cell_type": "code",
   "execution_count": 23,
   "metadata": {},
   "outputs": [
    {
     "data": {
      "text/plain": [
       "260753"
      ]
     },
     "execution_count": 23,
     "metadata": {},
     "output_type": "execute_result"
    }
   ],
   "source": [
    "df_final.count()"
   ]
  },
  {
   "cell_type": "markdown",
   "metadata": {},
   "source": [
    "#### Xác định các categorical variable ( biến phân loại) và nummerical variable ( biến số) trong tập test"
   ]
  },
  {
   "cell_type": "code",
   "execution_count": 24,
   "metadata": {},
   "outputs": [
    {
     "name": "stdout",
     "output_type": "stream",
     "text": [
      "cat_cols_test: ['Field6', 'Field10', 'Field12', 'CoverageField8', 'CoverageField9', 'SalesField7', 'PersonalField7', 'PersonalField16', 'PersonalField17', 'PersonalField18', 'PersonalField19', 'PropertyField3', 'PropertyField4', 'PropertyField5', 'PropertyField7', 'PropertyField14', 'PropertyField28', 'PropertyField30', 'PropertyField31', 'PropertyField32', 'PropertyField33', 'PropertyField34', 'PropertyField36', 'PropertyField37', 'PropertyField38', 'GeographicField63', 'GeographicField64']\n",
      "num_cols_test: ['Id', 'Field7', 'Field8', 'Field9', 'Field11', 'CoverageField1A', 'CoverageField1B', 'CoverageField2A', 'CoverageField2B', 'CoverageField3A', 'CoverageField3B', 'CoverageField4A', 'CoverageField4B', 'CoverageField5A', 'CoverageField5B', 'CoverageField6A', 'CoverageField6B', 'CoverageField11A', 'CoverageField11B', 'SalesField1A', 'SalesField1B', 'SalesField2A', 'SalesField2B', 'SalesField3', 'SalesField4', 'SalesField5', 'SalesField6', 'SalesField8', 'SalesField9', 'SalesField10', 'SalesField11', 'SalesField12', 'SalesField13', 'SalesField14', 'SalesField15', 'PersonalField1', 'PersonalField2', 'PersonalField4A', 'PersonalField4B', 'PersonalField5', 'PersonalField6', 'PersonalField8', 'PersonalField9', 'PersonalField10A', 'PersonalField10B', 'PersonalField11', 'PersonalField12', 'PersonalField13', 'PersonalField14', 'PersonalField15', 'PersonalField22', 'PersonalField23', 'PersonalField24', 'PersonalField25', 'PersonalField26', 'PersonalField27', 'PersonalField28', 'PersonalField29', 'PersonalField30', 'PersonalField31', 'PersonalField32', 'PersonalField33', 'PersonalField34', 'PersonalField35', 'PersonalField36', 'PersonalField37', 'PersonalField38', 'PersonalField39', 'PersonalField40', 'PersonalField41', 'PersonalField42', 'PersonalField43', 'PersonalField44', 'PersonalField45', 'PersonalField46', 'PersonalField47', 'PersonalField48', 'PersonalField49', 'PersonalField50', 'PersonalField51', 'PersonalField52', 'PersonalField53', 'PersonalField54', 'PersonalField55', 'PersonalField56', 'PersonalField57', 'PersonalField58', 'PersonalField59', 'PersonalField60', 'PersonalField61', 'PersonalField62', 'PersonalField63', 'PersonalField64', 'PersonalField65', 'PersonalField66', 'PersonalField67', 'PersonalField68', 'PersonalField69', 'PersonalField70', 'PersonalField71', 'PersonalField72', 'PersonalField73', 'PersonalField74', 'PersonalField75', 'PersonalField76', 'PersonalField77', 'PersonalField78', 'PersonalField79', 'PersonalField80', 'PersonalField81', 'PersonalField82', 'PersonalField83', 'PersonalField84', 'PropertyField1A', 'PropertyField1B', 'PropertyField2A', 'PropertyField2B', 'PropertyField6', 'PropertyField8', 'PropertyField9', 'PropertyField10', 'PropertyField11A', 'PropertyField11B', 'PropertyField12', 'PropertyField13', 'PropertyField15', 'PropertyField16A', 'PropertyField16B', 'PropertyField17', 'PropertyField18', 'PropertyField19', 'PropertyField20', 'PropertyField21A', 'PropertyField21B', 'PropertyField22', 'PropertyField23', 'PropertyField24A', 'PropertyField24B', 'PropertyField25', 'PropertyField26A', 'PropertyField26B', 'PropertyField27', 'PropertyField29', 'PropertyField35', 'PropertyField39A', 'PropertyField39B', 'GeographicField1A', 'GeographicField1B', 'GeographicField2A', 'GeographicField2B', 'GeographicField3A', 'GeographicField3B', 'GeographicField4A', 'GeographicField4B', 'GeographicField5A', 'GeographicField5B', 'GeographicField6A', 'GeographicField6B', 'GeographicField7A', 'GeographicField7B', 'GeographicField8A', 'GeographicField8B', 'GeographicField9A', 'GeographicField9B', 'GeographicField10A', 'GeographicField10B', 'GeographicField11A', 'GeographicField11B', 'GeographicField12A', 'GeographicField12B', 'GeographicField13A', 'GeographicField13B', 'GeographicField14A', 'GeographicField14B', 'GeographicField15A', 'GeographicField15B', 'GeographicField16A', 'GeographicField16B', 'GeographicField17A', 'GeographicField17B', 'GeographicField18A', 'GeographicField18B', 'GeographicField19A', 'GeographicField19B', 'GeographicField20A', 'GeographicField20B', 'GeographicField21A', 'GeographicField21B', 'GeographicField22A', 'GeographicField22B', 'GeographicField23A', 'GeographicField23B', 'GeographicField24A', 'GeographicField24B', 'GeographicField25A', 'GeographicField25B', 'GeographicField26A', 'GeographicField26B', 'GeographicField27A', 'GeographicField27B', 'GeographicField28A', 'GeographicField28B', 'GeographicField29A', 'GeographicField29B', 'GeographicField30A', 'GeographicField30B', 'GeographicField31A', 'GeographicField31B', 'GeographicField32A', 'GeographicField32B', 'GeographicField33A', 'GeographicField33B', 'GeographicField34A', 'GeographicField34B', 'GeographicField35A', 'GeographicField35B', 'GeographicField36A', 'GeographicField36B', 'GeographicField37A', 'GeographicField37B', 'GeographicField38A', 'GeographicField38B', 'GeographicField39A', 'GeographicField39B', 'GeographicField40A', 'GeographicField40B', 'GeographicField41A', 'GeographicField41B', 'GeographicField42A', 'GeographicField42B', 'GeographicField43A', 'GeographicField43B', 'GeographicField44A', 'GeographicField44B', 'GeographicField45A', 'GeographicField45B', 'GeographicField46A', 'GeographicField46B', 'GeographicField47A', 'GeographicField47B', 'GeographicField48A', 'GeographicField48B', 'GeographicField49A', 'GeographicField49B', 'GeographicField50A', 'GeographicField50B', 'GeographicField51A', 'GeographicField51B', 'GeographicField52A', 'GeographicField52B', 'GeographicField53A', 'GeographicField53B', 'GeographicField54A', 'GeographicField54B', 'GeographicField55A', 'GeographicField55B', 'GeographicField56A', 'GeographicField56B', 'GeographicField57A', 'GeographicField57B', 'GeographicField58A', 'GeographicField58B', 'GeographicField59A', 'GeographicField59B', 'GeographicField60A', 'GeographicField60B', 'GeographicField61A', 'GeographicField61B', 'GeographicField62A', 'GeographicField62B']\n"
     ]
    }
   ],
   "source": [
    "# Xác định Categorical variable \n",
    "cat_cols_test = [item[0] for item in test_data.dtypes if item[1].startswith('string')] \n",
    "print(\"cat_cols_test:\", cat_cols_test)\n",
    "\n",
    "# Xác định Numerical variable\n",
    "num_cols_test = [item[0] for item in test_data.dtypes if item[1].startswith('int') | item[1].startswith('double')] \n",
    "print(\"num_cols_test:\", num_cols_test)"
   ]
  },
  {
   "cell_type": "code",
   "execution_count": 25,
   "metadata": {},
   "outputs": [
    {
     "name": "stdout",
     "output_type": "stream",
     "text": [
      "num_id_test: Id\n",
      "['Id']\n",
      "['Field7', 'Field8', 'Field9', 'Field11', 'CoverageField1A', 'CoverageField1B', 'CoverageField2A', 'CoverageField2B', 'CoverageField3A', 'CoverageField3B', 'CoverageField4A', 'CoverageField4B', 'CoverageField5A', 'CoverageField5B', 'CoverageField6A', 'CoverageField6B', 'CoverageField11A', 'CoverageField11B', 'SalesField1A', 'SalesField1B', 'SalesField2A', 'SalesField2B', 'SalesField3', 'SalesField4', 'SalesField5', 'SalesField6', 'SalesField8', 'SalesField9', 'SalesField10', 'SalesField11', 'SalesField12', 'SalesField13', 'SalesField14', 'SalesField15', 'PersonalField1', 'PersonalField2', 'PersonalField4A', 'PersonalField4B', 'PersonalField5', 'PersonalField6', 'PersonalField8', 'PersonalField9', 'PersonalField10A', 'PersonalField10B', 'PersonalField11', 'PersonalField12', 'PersonalField13', 'PersonalField14', 'PersonalField15', 'PersonalField22', 'PersonalField23', 'PersonalField24', 'PersonalField25', 'PersonalField26', 'PersonalField27', 'PersonalField28', 'PersonalField29', 'PersonalField30', 'PersonalField31', 'PersonalField32', 'PersonalField33', 'PersonalField34', 'PersonalField35', 'PersonalField36', 'PersonalField37', 'PersonalField38', 'PersonalField39', 'PersonalField40', 'PersonalField41', 'PersonalField42', 'PersonalField43', 'PersonalField44', 'PersonalField45', 'PersonalField46', 'PersonalField47', 'PersonalField48', 'PersonalField49', 'PersonalField50', 'PersonalField51', 'PersonalField52', 'PersonalField53', 'PersonalField54', 'PersonalField55', 'PersonalField56', 'PersonalField57', 'PersonalField58', 'PersonalField59', 'PersonalField60', 'PersonalField61', 'PersonalField62', 'PersonalField63', 'PersonalField64', 'PersonalField65', 'PersonalField66', 'PersonalField67', 'PersonalField68', 'PersonalField69', 'PersonalField70', 'PersonalField71', 'PersonalField72', 'PersonalField73', 'PersonalField74', 'PersonalField75', 'PersonalField76', 'PersonalField77', 'PersonalField78', 'PersonalField79', 'PersonalField80', 'PersonalField81', 'PersonalField82', 'PersonalField83', 'PersonalField84', 'PropertyField1A', 'PropertyField1B', 'PropertyField2A', 'PropertyField2B', 'PropertyField6', 'PropertyField8', 'PropertyField9', 'PropertyField10', 'PropertyField11A', 'PropertyField11B', 'PropertyField12', 'PropertyField13', 'PropertyField15', 'PropertyField16A', 'PropertyField16B', 'PropertyField17', 'PropertyField18', 'PropertyField19', 'PropertyField20', 'PropertyField21A', 'PropertyField21B', 'PropertyField22', 'PropertyField23', 'PropertyField24A', 'PropertyField24B', 'PropertyField25', 'PropertyField26A', 'PropertyField26B', 'PropertyField27', 'PropertyField29', 'PropertyField35', 'PropertyField39A', 'PropertyField39B', 'GeographicField1A', 'GeographicField1B', 'GeographicField2A', 'GeographicField2B', 'GeographicField3A', 'GeographicField3B', 'GeographicField4A', 'GeographicField4B', 'GeographicField5A', 'GeographicField5B', 'GeographicField6A', 'GeographicField6B', 'GeographicField7A', 'GeographicField7B', 'GeographicField8A', 'GeographicField8B', 'GeographicField9A', 'GeographicField9B', 'GeographicField10A', 'GeographicField10B', 'GeographicField11A', 'GeographicField11B', 'GeographicField12A', 'GeographicField12B', 'GeographicField13A', 'GeographicField13B', 'GeographicField14A', 'GeographicField14B', 'GeographicField15A', 'GeographicField15B', 'GeographicField16A', 'GeographicField16B', 'GeographicField17A', 'GeographicField17B', 'GeographicField18A', 'GeographicField18B', 'GeographicField19A', 'GeographicField19B', 'GeographicField20A', 'GeographicField20B', 'GeographicField21A', 'GeographicField21B', 'GeographicField22A', 'GeographicField22B', 'GeographicField23A', 'GeographicField23B', 'GeographicField24A', 'GeographicField24B', 'GeographicField25A', 'GeographicField25B', 'GeographicField26A', 'GeographicField26B', 'GeographicField27A', 'GeographicField27B', 'GeographicField28A', 'GeographicField28B', 'GeographicField29A', 'GeographicField29B', 'GeographicField30A', 'GeographicField30B', 'GeographicField31A', 'GeographicField31B', 'GeographicField32A', 'GeographicField32B', 'GeographicField33A', 'GeographicField33B', 'GeographicField34A', 'GeographicField34B', 'GeographicField35A', 'GeographicField35B', 'GeographicField36A', 'GeographicField36B', 'GeographicField37A', 'GeographicField37B', 'GeographicField38A', 'GeographicField38B', 'GeographicField39A', 'GeographicField39B', 'GeographicField40A', 'GeographicField40B', 'GeographicField41A', 'GeographicField41B', 'GeographicField42A', 'GeographicField42B', 'GeographicField43A', 'GeographicField43B', 'GeographicField44A', 'GeographicField44B', 'GeographicField45A', 'GeographicField45B', 'GeographicField46A', 'GeographicField46B', 'GeographicField47A', 'GeographicField47B', 'GeographicField48A', 'GeographicField48B', 'GeographicField49A', 'GeographicField49B', 'GeographicField50A', 'GeographicField50B', 'GeographicField51A', 'GeographicField51B', 'GeographicField52A', 'GeographicField52B', 'GeographicField53A', 'GeographicField53B', 'GeographicField54A', 'GeographicField54B', 'GeographicField55A', 'GeographicField55B', 'GeographicField56A', 'GeographicField56B', 'GeographicField57A', 'GeographicField57B', 'GeographicField58A', 'GeographicField58B', 'GeographicField59A', 'GeographicField59B', 'GeographicField60A', 'GeographicField60B', 'GeographicField61A', 'GeographicField61B', 'GeographicField62A', 'GeographicField62B']\n"
     ]
    }
   ],
   "source": [
    "# Chọn cột 'Id' từ num_cols_test và lưu nó vào trong'num_id_test'\n",
    "num_id_test=num_cols_test.pop(0)\n",
    "print(\"num_id_test:\", num_id_test)\n",
    "\n",
    "# lưu nó vào trong'num_id_test'\n",
    "num_id_test=[num_id_test]\n",
    "print(num_id_test)\n",
    "print(num_cols_test)"
   ]
  },
  {
   "cell_type": "markdown",
   "metadata": {},
   "source": [
    "Kiểm tra lại số dòng trên tập test."
   ]
  },
  {
   "cell_type": "code",
   "execution_count": 26,
   "metadata": {},
   "outputs": [
    {
     "data": {
      "text/plain": [
       "173836"
      ]
     },
     "execution_count": 26,
     "metadata": {},
     "output_type": "execute_result"
    }
   ],
   "source": [
    "test_data.count()"
   ]
  },
  {
   "cell_type": "markdown",
   "metadata": {},
   "source": [
    "Tổng số thuộc tính của hai biến categorical variable và nummerical variable trên tập test."
   ]
  },
  {
   "cell_type": "code",
   "execution_count": 27,
   "metadata": {},
   "outputs": [
    {
     "data": {
      "text/plain": [
       "(269, 27)"
      ]
     },
     "execution_count": 27,
     "metadata": {},
     "output_type": "execute_result"
    }
   ],
   "source": [
    "len(num_cols_test), len(cat_cols_test)"
   ]
  },
  {
   "cell_type": "markdown",
   "metadata": {},
   "source": [
    "### Kiểm tra và xử lý các giá trị bị thiếu trong tập train\n",
    "#### Kiểm tra  bị thiếu trong tập train"
   ]
  },
  {
   "cell_type": "markdown",
   "metadata": {},
   "source": [
    "Chúng tôi kiểm tra các giá trị bị thiếu với bằng funtion count_nulls."
   ]
  },
  {
   "cell_type": "code",
   "execution_count": 28,
   "metadata": {},
   "outputs": [],
   "source": [
    "# Kiểm tra các giá trị bị thiếu  với Pyspark Dataframe\n",
    "def count_nulls(c):\n",
    "    \"\"\"Input pyspark dataframe and return list of columns with missing value and it's total value\"\"\"\n",
    "    null_counts = []          # tạo một list rỗng để lưu kết quả\n",
    "    for col in c.dtypes:\n",
    "        cname = col[0]         \n",
    "        ctype = col[1]       \n",
    "        nulls = c.where( c[cname].isNull()).count() # điếm các giá trị null trên mỗi cột\n",
    "        result = tuple([cname, nulls])  \n",
    "        null_counts.append(result)      \n",
    "    null_counts=[(x,y) for (x,y) in null_counts if y!=0]  # xem các cột có giá trị bị thiếu\n",
    "    return null_counts\n"
   ]
  },
  {
   "cell_type": "code",
   "execution_count": 29,
   "metadata": {
    "scrolled": true
   },
   "outputs": [
    {
     "name": "stdout",
     "output_type": "stream",
     "text": [
      "Help on function count_nulls in module __main__:\n",
      "\n",
      "count_nulls(c)\n",
      "    Input pyspark dataframe and return list of columns with missing value and it's total value\n",
      "\n"
     ]
    }
   ],
   "source": [
    "help(count_nulls)"
   ]
  },
  {
   "cell_type": "markdown",
   "metadata": {},
   "source": [
    "Tập dữ liệu có 298 cột và có 9 cột có giá trị bị thiếu (null)."
   ]
  },
  {
   "cell_type": "code",
   "execution_count": 30,
   "metadata": {
    "scrolled": true
   },
   "outputs": [
    {
     "name": "stdout",
     "output_type": "stream",
     "text": [
      "Wall time: 4min 57s\n"
     ]
    },
    {
     "data": {
      "text/plain": [
       "[('PersonalField7', 113),\n",
       " ('PersonalField84', 124208),\n",
       " ('PropertyField3', 81),\n",
       " ('PropertyField4', 63),\n",
       " ('PropertyField29', 200685),\n",
       " ('PropertyField32', 70),\n",
       " ('PropertyField34', 70),\n",
       " ('PropertyField36', 113),\n",
       " ('PropertyField38', 1220)]"
      ]
     },
     "execution_count": 30,
     "metadata": {},
     "output_type": "execute_result"
    }
   ],
   "source": [
    "# Sử dụng hàm count_nulls và dùng nó cho tập train (df_final)\n",
    "%time null_counts = count_nulls(df_final)\n",
    "null_counts"
   ]
  },
  {
   "cell_type": "markdown",
   "metadata": {},
   "source": [
    "Từ hàm count_nulls chúng tôi nhận được thông tin tất cả các cột có giá trị bị thiếu, nó là  một số và lưu vào danh sách \"null_counts\".\n",
    "\n",
    "Từ null_counts, chúng tôi chỉ lấy thông tin của tên cột và lưu vào danh sách \"list_cols_miss\", giống như trong tập lệnh bên dưới:"
   ]
  },
  {
   "cell_type": "code",
   "execution_count": 31,
   "metadata": {},
   "outputs": [
    {
     "data": {
      "text/plain": [
       "['PersonalField7',\n",
       " 'PersonalField84',\n",
       " 'PropertyField3',\n",
       " 'PropertyField4',\n",
       " 'PropertyField29',\n",
       " 'PropertyField32',\n",
       " 'PropertyField34',\n",
       " 'PropertyField36',\n",
       " 'PropertyField38']"
      ]
     },
     "execution_count": 31,
     "metadata": {},
     "output_type": "execute_result"
    }
   ],
   "source": [
    "list_cols_miss=[x[0] for x in null_counts]\n",
    "list_cols_miss"
   ]
  },
  {
   "cell_type": "markdown",
   "metadata": {},
   "source": [
    "Từ list_cols_miss tạo một dataframe có tên là \"df_miss\". Mục đích là xác định các giá trị bị thiếu trong cột categorical và numerical."
   ]
  },
  {
   "cell_type": "code",
   "execution_count": 32,
   "metadata": {},
   "outputs": [],
   "source": [
    "# Tạo dataframe chỉ có list_cols_miss\n",
    "df_miss= df_final.select(*list_cols_miss)"
   ]
  },
  {
   "cell_type": "code",
   "execution_count": 33,
   "metadata": {},
   "outputs": [
    {
     "data": {
      "text/plain": [
       "[('PersonalField7', 'string'),\n",
       " ('PersonalField84', 'int'),\n",
       " ('PropertyField3', 'string'),\n",
       " ('PropertyField4', 'string'),\n",
       " ('PropertyField29', 'int'),\n",
       " ('PropertyField32', 'string'),\n",
       " ('PropertyField34', 'string'),\n",
       " ('PropertyField36', 'string'),\n",
       " ('PropertyField38', 'string')]"
      ]
     },
     "execution_count": 33,
     "metadata": {},
     "output_type": "execute_result"
    }
   ],
   "source": [
    "df_miss.dtypes"
   ]
  },
  {
   "cell_type": "markdown",
   "metadata": {},
   "source": [
    "Sau khi tạo  \"df_miss\", chúng tôi chia thành hai cột categorical và numerical bị thiếu.\n",
    "Đối với cột categorical sẽ có tên là \"catcolums_miss\" và cột numerical sẽ có tên là \"numcolumns_miss\"."
   ]
  },
  {
   "cell_type": "code",
   "execution_count": 34,
   "metadata": {},
   "outputs": [
    {
     "name": "stdout",
     "output_type": "stream",
     "text": [
      "catcolums_miss: ['PersonalField7', 'PropertyField3', 'PropertyField4', 'PropertyField32', 'PropertyField34', 'PropertyField36', 'PropertyField38']\n",
      "numcolumns_miss: ['PersonalField84', 'PropertyField29']\n"
     ]
    }
   ],
   "source": [
    "# Xác định cột categorical và cột numerical bị thiếu giá trị \n",
    "# cột categorical\n",
    "catcolums_miss=[item[0] for item in df_miss.dtypes if item[1].startswith('string')]  #will select name of column with string data type\n",
    "print(\"catcolums_miss:\", catcolums_miss)\n",
    "\n",
    "# cột numerical\n",
    "numcolumns_miss = [item[0] for item in df_miss.dtypes if item[1].startswith('int') | item[1].startswith('double')] #will select name of column with integer or double data type\n",
    "print(\"numcolumns_miss:\", numcolumns_miss)\n"
   ]
  },
  {
   "cell_type": "markdown",
   "metadata": {},
   "source": [
    "#### Xử lý các giá trị bị thiếu trong tập train\n",
    "Đối với các cột categorical chúng tôi sẽ điền các giá trị thường xuyên xuất hiện.  Do đó, chúng tôi phải đếm các giá trị trong mỗi cột bằng cách đếm và sắp xếp giảm dần từng cột trong dataframe mà không có giá trị nào bị thiếu. Do đó, chúng tôi loại bỏ các giá trị bị thiếu và lưu trong dataframe mới được gọi là \"df_Nomiss\".\n",
    "\n",
    "Đối với các cột numerical chúng tôi điền các giá trị còn thiếu với giá trị trung bình trong cột đó."
   ]
  },
  {
   "cell_type": "markdown",
   "metadata": {},
   "source": [
    "Chúng tôi tiến hành xóa các giá trị null trong cột."
   ]
  },
  {
   "cell_type": "code",
   "execution_count": 35,
   "metadata": {},
   "outputs": [],
   "source": [
    "df_Nomiss=df_final.na.drop()"
   ]
  },
  {
   "cell_type": "markdown",
   "metadata": {},
   "source": [
    "Chúng tôi điền giá trị còn thiếu vào categorical variable  với giá trị có tần suất xuất hiện nhiều nhất. Ví dụ như cột \"PersonalField7\" chúng tôi điền giá trị \"N\"."
   ]
  },
  {
   "cell_type": "code",
   "execution_count": 36,
   "metadata": {},
   "outputs": [
    {
     "name": "stdout",
     "output_type": "stream",
     "text": [
      "Wall time: 0 ns\n",
      "PersonalField7 N\n",
      "PropertyField3 N\n",
      "PropertyField4 N\n",
      "PropertyField32 Y\n",
      "PropertyField34 N\n",
      "PropertyField36 N\n",
      "PropertyField38 N\n"
     ]
    }
   ],
   "source": [
    "# Điền giá trị còn thiếu vào categorical variable  với giá trị có tần suất xuất hiện nhiều nhất\n",
    "%time\n",
    "for x in catcolums_miss:\n",
    "    mode=df_Nomiss.groupBy(x).count().sort(col(\"count\").desc()).collect()[0][0] \n",
    "    print(x, mode) \n",
    "    df_final = df_final.na.fill({x:mode})"
   ]
  },
  {
   "cell_type": "markdown",
   "metadata": {},
   "source": [
    "Chúng tôi điền giá trị còn thiếu vào numerical variable với giá trị trung bình của tất cả các giá trị trong cột. Ví dụ như cột \"PersonalField84\" chúng tôi điền giá trị \"2.0\"."
   ]
  },
  {
   "cell_type": "code",
   "execution_count": 37,
   "metadata": {},
   "outputs": [
    {
     "name": "stdout",
     "output_type": "stream",
     "text": [
      "PersonalField84 2.0\n",
      "PropertyField29 0.0\n"
     ]
    }
   ],
   "source": [
    "# Điền giá trị còn thiếu vào biến số với giá trị trung bình\n",
    "for i in numcolumns_miss:\n",
    "    meanvalue = df_final.select(round(mean(i))).collect()[0][0] \n",
    "    print(i, meanvalue) \n",
    "    df_final=df_final.na.fill({i:meanvalue})"
   ]
  },
  {
   "cell_type": "markdown",
   "metadata": {},
   "source": [
    "Chúng tôi kiểm tra xem các cột trong tập train còn giá trị nào bị thiếu nữa hay không."
   ]
  },
  {
   "cell_type": "code",
   "execution_count": 38,
   "metadata": {},
   "outputs": [
    {
     "name": "stdout",
     "output_type": "stream",
     "text": [
      "Wall time: 6min 6s\n"
     ]
    },
    {
     "data": {
      "text/plain": [
       "[]"
      ]
     },
     "execution_count": 38,
     "metadata": {},
     "output_type": "execute_result"
    }
   ],
   "source": [
    "# Kiểm tra giá trị còn thiếu sau khi điền\n",
    "%time null_counts = count_nulls(df_final)\n",
    "null_counts"
   ]
  },
  {
   "cell_type": "markdown",
   "metadata": {},
   "source": [
    "Bây giờ, null_counts đầu ra là null, có nghĩa là không còn cột nào bị thiếu giá trị."
   ]
  },
  {
   "cell_type": "markdown",
   "metadata": {},
   "source": [
    "### Kiểm tra và xử lý các giá trị bị thiếu ở tập test\n",
    "#### Kiểm tra các giá trị bị thiếu ở tập test"
   ]
  },
  {
   "cell_type": "markdown",
   "metadata": {},
   "source": [
    "Dùng Pyspark Dataframe"
   ]
  },
  {
   "cell_type": "code",
   "execution_count": 39,
   "metadata": {
    "scrolled": true
   },
   "outputs": [
    {
     "name": "stdout",
     "output_type": "stream",
     "text": [
      "Wall time: 3min 14s\n"
     ]
    },
    {
     "data": {
      "text/plain": [
       "[('PersonalField7', 69),\n",
       " ('PersonalField84', 82812),\n",
       " ('PropertyField3', 69),\n",
       " ('PropertyField4', 52),\n",
       " ('PropertyField5', 1),\n",
       " ('PropertyField29', 133945),\n",
       " ('PropertyField30', 1),\n",
       " ('PropertyField32', 41),\n",
       " ('PropertyField34', 41),\n",
       " ('PropertyField36', 67),\n",
       " ('PropertyField38', 846)]"
      ]
     },
     "execution_count": 39,
     "metadata": {},
     "output_type": "execute_result"
    }
   ],
   "source": [
    "# Sử dụng hàm count_nulls và dùng nó cho tập test (test_data)\n",
    "%time null_test= count_nulls(test_data)\n",
    "null_test"
   ]
  },
  {
   "cell_type": "code",
   "execution_count": 40,
   "metadata": {},
   "outputs": [
    {
     "data": {
      "text/plain": [
       "['PersonalField7',\n",
       " 'PersonalField84',\n",
       " 'PropertyField3',\n",
       " 'PropertyField4',\n",
       " 'PropertyField5',\n",
       " 'PropertyField29',\n",
       " 'PropertyField30',\n",
       " 'PropertyField32',\n",
       " 'PropertyField34',\n",
       " 'PropertyField36',\n",
       " 'PropertyField38']"
      ]
     },
     "execution_count": 40,
     "metadata": {},
     "output_type": "execute_result"
    }
   ],
   "source": [
    "list_miss_test=[x[0] for x in null_test]\n",
    "list_miss_test"
   ]
  },
  {
   "cell_type": "code",
   "execution_count": 41,
   "metadata": {},
   "outputs": [
    {
     "data": {
      "text/plain": [
       "[('PersonalField7', 'string'),\n",
       " ('PersonalField84', 'int'),\n",
       " ('PropertyField3', 'string'),\n",
       " ('PropertyField4', 'string'),\n",
       " ('PropertyField5', 'string'),\n",
       " ('PropertyField29', 'int'),\n",
       " ('PropertyField30', 'string'),\n",
       " ('PropertyField32', 'string'),\n",
       " ('PropertyField34', 'string'),\n",
       " ('PropertyField36', 'string'),\n",
       " ('PropertyField38', 'string')]"
      ]
     },
     "execution_count": 41,
     "metadata": {},
     "output_type": "execute_result"
    }
   ],
   "source": [
    "test_miss= test_data.select(*list_miss_test)\n",
    "# xem data types(kiểu dữ liệu của cột)\n",
    "test_miss.dtypes"
   ]
  },
  {
   "cell_type": "code",
   "execution_count": 42,
   "metadata": {},
   "outputs": [
    {
     "name": "stdout",
     "output_type": "stream",
     "text": [
      "catcolums_miss_test: ['PersonalField7', 'PropertyField3', 'PropertyField4', 'PropertyField5', 'PropertyField30', 'PropertyField32', 'PropertyField34', 'PropertyField36', 'PropertyField38']\n",
      "numcolumns_miss_test: ['PersonalField84', 'PropertyField29']\n"
     ]
    }
   ],
   "source": [
    "# Xác định cột categorical và cột numerical bị thiếu giá trị \n",
    "# cột categorical\n",
    "catcolums_miss_test=[item[0] for item in test_miss.dtypes if item[1].startswith('string')]  #will select name of column with string data type\n",
    "print(\"catcolums_miss_test:\", catcolums_miss_test)\n",
    "\n",
    "# cột numerical\n",
    "numcolumns_miss_test = [item[0] for item in test_miss.dtypes if item[1].startswith('int') | item[1].startswith('double')] #will select name of column with integer or double data type\n",
    "print(\"numcolumns_miss_test:\", numcolumns_miss_test)"
   ]
  },
  {
   "cell_type": "markdown",
   "metadata": {},
   "source": [
    "#### Xử lý các giá trị bị thiếu trong tập test"
   ]
  },
  {
   "cell_type": "markdown",
   "metadata": {},
   "source": [
    "Chúng tôi tiến hành xóa các giá trị null trong các cột của tập test."
   ]
  },
  {
   "cell_type": "code",
   "execution_count": 43,
   "metadata": {},
   "outputs": [],
   "source": [
    "test_Nomiss=test_data.na.drop()"
   ]
  },
  {
   "cell_type": "markdown",
   "metadata": {},
   "source": [
    "Chúng tôi điền giá trị còn thiếu vào categorical variable với giá trị có tần suất xuất hiện nhiều nhất. Ví dụ như cột \"PersonalField5\" chúng tôi điền giá trị \"Y\"."
   ]
  },
  {
   "cell_type": "code",
   "execution_count": 44,
   "metadata": {},
   "outputs": [
    {
     "name": "stdout",
     "output_type": "stream",
     "text": [
      "PersonalField7 N\n",
      "PropertyField3 N\n",
      "PropertyField4 N\n",
      "PropertyField5 Y\n",
      "PropertyField30 N\n",
      "PropertyField32 Y\n",
      "PropertyField34 N\n",
      "PropertyField36 N\n",
      "PropertyField38 N\n"
     ]
    }
   ],
   "source": [
    "# Điền giá trị còn thiếu vào categorical variable  với giá trị có tần suất xuất hiện nhiều nhất\n",
    "for x in catcolums_miss_test:\n",
    "    mode=test_Nomiss.groupBy(x).count().sort(col(\"count\").desc()).collect()[0][0] \n",
    "    print(x, mode) \n",
    "    test_data = test_data.na.fill({x:mode}) "
   ]
  },
  {
   "cell_type": "markdown",
   "metadata": {},
   "source": [
    "Tương tự, chúng tôi điền giá trị còn thiếu vào numerical variable với giá trị trung bình của tất cả các giá trị trong cột."
   ]
  },
  {
   "cell_type": "code",
   "execution_count": 45,
   "metadata": {},
   "outputs": [
    {
     "name": "stdout",
     "output_type": "stream",
     "text": [
      "PersonalField84 2.0\n",
      "PropertyField29 0.0\n"
     ]
    }
   ],
   "source": [
    "# Điền giá trị còn thiếu vào biến số với giá trị trung bình\n",
    "for i in numcolumns_miss_test:\n",
    "    meanvalue_test = test_data.select(round(mean(i))).collect()[0][0] \n",
    "    print(i, meanvalue_test) \n",
    "    test_data=test_data.na.fill({i:meanvalue_test})"
   ]
  },
  {
   "cell_type": "markdown",
   "metadata": {},
   "source": [
    "Chúng tôi kiểm tra xem các cột trong tập test còn giá trị nào bị thiếu nữa hay không."
   ]
  },
  {
   "cell_type": "code",
   "execution_count": 46,
   "metadata": {},
   "outputs": [
    {
     "name": "stdout",
     "output_type": "stream",
     "text": [
      "Wall time: 3min 29s\n"
     ]
    },
    {
     "data": {
      "text/plain": [
       "[]"
      ]
     },
     "execution_count": 46,
     "metadata": {},
     "output_type": "execute_result"
    }
   ],
   "source": [
    "# Kiểm tra giá trị còn thiếu sau khi điền\n",
    "%time null_test = count_nulls(test_data)\n",
    "null_test"
   ]
  },
  {
   "cell_type": "markdown",
   "metadata": {},
   "source": [
    "Bây giờ, null_test đầu ra là null, có nghĩa là không còn cột nào bị thiếu giá trị."
   ]
  },
  {
   "cell_type": "markdown",
   "metadata": {},
   "source": [
    "#### Đối chiếu các giá trị trong cột phân loại (categorical columns) ở tập train (df_final) và tập test (test_data)\n",
    "\n",
    "Trong bước này, chúng tôi kiểm tra xem các giá trị trong cột phân loại (categorical columns) ở tập train và tập test có khớp với nhau hay không. Nếu không, các giá trị trong cột ở tập test sẽ được equated (làm bằng nhau) với tập train. Bước này là cần thiết để tránh sai sót trong feature engineering, nếu có sự khác nhau giữa các giá trị trong cột ở tập train và tập test, lỗi sẽ xuất hiện tại quy trình feature engineering trong tập test. Mô hình được đào tạo ở tập train sẽ không áp dụng được ở tập test."
   ]
  },
  {
   "cell_type": "code",
   "execution_count": 47,
   "metadata": {},
   "outputs": [],
   "source": [
    "def check_category(a1,a2,y):\n",
    "    \"\"\"đầu vào là hai dataframe bạn muốn đối chiếu và tên cột phân loại\"\"\"\n",
    "    print('column:',y)\n",
    "    var1=a1.select([y]).distinct() \n",
    "    var2=a2.select([y]).distinct() \n",
    "    diff2=var2.subtract(var1).collect() \n",
    "    diff2=[r[y] for r in diff2] \n",
    "    diff1=var1.subtract(var2).collect() \n",
    "    diff1=[r[y] for r in diff1]\n",
    "    if diff1 == diff2:  # giá trị hai cột ở tập train và test khớp với nhau\n",
    "        print('diff2:', diff2)\n",
    "        print('diff1:', diff1)\n",
    "        print('Columns match!!')\n",
    "    else:\n",
    "        if len(diff1)!=0 and len(diff2)==len(diff1):\n",
    "            print('diff2:', diff2)\n",
    "            print('diff1:', diff1)\n",
    "            # thay thế các giá trị trong cột của dataframe2 bằng các giá trị trong cột của dataframe1\n",
    "            a2=a2.replace(diff2, diff1, y)\n",
    "            print('Columns match now!!')\n",
    "        else:\n",
    "            if len(diff2)!=len(diff1) and len(diff2)!=0:\n",
    "                print('diff2:', diff2)\n",
    "                print('diff1:', diff1)\n",
    "                # giá trị xuất hiền nhiều nhất trong một cột\n",
    "                dominant1=a1.groupBy(y).count().sort(col(\"count\").desc()).collect()[0][0]\n",
    "                dominant2=a2.groupBy(y).count().sort(col(\"count\").desc()).collect()[0][0] \n",
    "                print('dominant2:', dominant2)\n",
    "                print('dominant1:', dominant1)\n",
    "                # thay thế các giá trị trong cột của dataframe2 bằng giá trị xuất hiền nhiều nhất (dominant1) \n",
    "                a2=a2.replace(diff2, dominant1, y)\n",
    "                print('Columns match now!!')\n",
    "            else:     \n",
    "                print('diff1:', diff1)\n",
    "                print('diff2:', diff2)\n",
    "    return a2"
   ]
  },
  {
   "cell_type": "markdown",
   "metadata": {},
   "source": [
    "Chúng tôi tiến hành gọi hàm check_category2 để kiểm tra các giá trị trong cột phân loại (categorical columns) ở tập train (df_final) và tập test (test_data) có khớp với nhau không. Ví dụ như ở cột PersonalField16 các giá trị ở tập train ['XU', 'XN', 'XY', 'ZO', 'ZQ', 'ZV', 'ZL', 'ZS', 'ZP'] và ở tập test là ['ZM', 'XG', 'YG'], các giá trị sẽ được thay thế bằng 'ZA'."
   ]
  },
  {
   "cell_type": "code",
   "execution_count": 48,
   "metadata": {
    "scrolled": false
   },
   "outputs": [
    {
     "name": "stdout",
     "output_type": "stream",
     "text": [
      "column: Field6\n",
      "diff2: []\n",
      "diff1: []\n",
      "Columns match!!\n",
      "column: Field10\n",
      "diff2: []\n",
      "diff1: []\n",
      "Columns match!!\n",
      "column: Field12\n",
      "diff2: []\n",
      "diff1: []\n",
      "Columns match!!\n",
      "column: CoverageField8\n",
      "diff2: []\n",
      "diff1: []\n",
      "Columns match!!\n",
      "column: CoverageField9\n",
      "diff2: []\n",
      "diff1: []\n",
      "Columns match!!\n",
      "column: SalesField7\n",
      "diff2: []\n",
      "diff1: []\n",
      "Columns match!!\n",
      "column: PersonalField7\n",
      "diff2: []\n",
      "diff1: []\n",
      "Columns match!!\n",
      "column: PersonalField16\n",
      "diff2: ['ZM', 'XG', 'YG']\n",
      "diff1: ['XU', 'XN', 'XY', 'ZO', 'ZQ', 'ZV', 'ZL', 'ZS', 'ZP']\n",
      "dominant2: ZA\n",
      "dominant1: ZA\n",
      "Columns match now!!\n",
      "column: PersonalField17\n",
      "diff2: ['XZ', 'XF', 'YO', 'ZJ']\n",
      "diff1: ['XP', 'XY', 'ZR', 'XJ', 'YP', 'XO']\n",
      "dominant2: ZE\n",
      "dominant1: ZE\n",
      "Columns match now!!\n",
      "column: PersonalField18\n",
      "diff2: ['XB']\n",
      "diff1: ['ZG', 'XV', 'ZI', 'XH']\n",
      "dominant2: XR\n",
      "dominant1: XR\n",
      "Columns match now!!\n",
      "column: PersonalField19\n",
      "diff2: ['ZS']\n",
      "diff1: ['XL', 'YI', 'ZC']\n",
      "dominant2: XD\n",
      "dominant1: XD\n",
      "Columns match now!!\n",
      "column: PropertyField3\n",
      "diff2: []\n",
      "diff1: []\n",
      "Columns match!!\n",
      "column: PropertyField4\n",
      "diff2: []\n",
      "diff1: []\n",
      "Columns match!!\n",
      "column: PropertyField5\n",
      "diff2: []\n",
      "diff1: []\n",
      "Columns match!!\n",
      "column: PropertyField7\n",
      "diff2: ['T']\n",
      "diff1: ['B']\n",
      "Columns match now!!\n",
      "column: PropertyField14\n",
      "diff2: []\n",
      "diff1: []\n",
      "Columns match!!\n",
      "column: PropertyField28\n",
      "diff2: []\n",
      "diff1: []\n",
      "Columns match!!\n",
      "column: PropertyField30\n",
      "diff2: []\n",
      "diff1: []\n",
      "Columns match!!\n",
      "column: PropertyField31\n",
      "diff2: []\n",
      "diff1: []\n",
      "Columns match!!\n",
      "column: PropertyField32\n",
      "diff2: []\n",
      "diff1: []\n",
      "Columns match!!\n",
      "column: PropertyField33\n",
      "diff2: []\n",
      "diff1: []\n",
      "Columns match!!\n",
      "column: PropertyField34\n",
      "diff2: []\n",
      "diff1: []\n",
      "Columns match!!\n",
      "column: PropertyField36\n",
      "diff2: []\n",
      "diff1: []\n",
      "Columns match!!\n",
      "column: PropertyField37\n",
      "diff2: [' ']\n",
      "diff1: []\n",
      "dominant2: N\n",
      "dominant1: N\n",
      "Columns match now!!\n",
      "column: PropertyField38\n",
      "diff2: []\n",
      "diff1: []\n",
      "Columns match!!\n",
      "column: GeographicField63\n",
      "diff2: []\n",
      "diff1: []\n",
      "Columns match!!\n",
      "column: GeographicField64\n",
      "diff2: []\n",
      "diff1: []\n",
      "Columns match!!\n"
     ]
    }
   ],
   "source": [
    " for y in cat_cols_test:\n",
    "    test_data=check_category(df_final,test_data,y)"
   ]
  },
  {
   "cell_type": "markdown",
   "metadata": {},
   "source": [
    "### Exploratory data analysis (EDA)"
   ]
  },
  {
   "cell_type": "markdown",
   "metadata": {},
   "source": [
    "#### Biểu đồ cột phân phối giá trị của một vài categorical variable\n",
    "Ở biểu đồ \"Thống kê việc mua bảo hiểm\" cho thấy được tập train có đến 81.2% khách hàng là mua bảo hiểm và 18.8% khách hàng là không mua bảo hiểm.\n",
    "\n",
    "Ở biểu đồ \"Phân bố các giá trị ở cột Field6\" và \"Phân bố các giá trị ở cột Field12\" cho thấy sự phân bố của các giá trị trong cột."
   ]
  },
  {
   "cell_type": "code",
   "execution_count": 49,
   "metadata": {},
   "outputs": [
    {
     "data": {
      "image/png": "[encoded data removed]",
      "text/plain": [
       "<Figure size 1440x720 with 3 Axes>"
      ]
     },
     "metadata": {
      "needs_background": "light"
     },
     "output_type": "display_data"
    }
   ],
   "source": [
    "df_pd=df_final.toPandas()\n",
    "plt.figure(figsize=(20,10))\n",
    "plt.subplot(221)\n",
    "sns.countplot(x='label', data=df_pd, order=df_pd['label'].value_counts().index)\n",
    "plt.title('Thống kê việc mua bảo hiểm', fontsize=15)\n",
    "plt.subplot(222)\n",
    "sns.countplot(y='Field6', data=df_pd, order=df_pd['Field6'].value_counts().index)\n",
    "plt.title('Phân bố các giá trị ở cột Field6', fontsize=15)\n",
    "plt.subplot(223)\n",
    "sns.countplot(x='Field12', data=df_pd, order=df_pd['Field12'].value_counts().index)\n",
    "plt.title('Phân bố các giá trị ở cột Field12', fontsize=15)\n",
    "plt.show()"
   ]
  },
  {
   "cell_type": "markdown",
   "metadata": {},
   "source": [
    "Chúng tôi tiến hành visualization một vài categorical variable (biến phân loại) với label (nhãn). Ví dụ đối với những khách hàng có giá trị \"A\" ở cột Field6 thì 100% là họ sẽ mua bảo hiểm (label= 0)."
   ]
  },
  {
   "cell_type": "code",
   "execution_count": 50,
   "metadata": {},
   "outputs": [
    {
     "data": {
      "image/png": "[encoded data removed]",
      "text/plain": [
       "<Figure size 288x288 with 1 Axes>"
      ]
     },
     "metadata": {
      "needs_background": "light"
     },
     "output_type": "display_data"
    },
    {
     "data": {
      "image/png": "[encoded data removed]",
      "text/plain": [
       "<Figure size 288x288 with 1 Axes>"
      ]
     },
     "metadata": {
      "needs_background": "light"
     },
     "output_type": "display_data"
    }
   ],
   "source": [
    "\n",
    "pd.crosstab(df_pd['Field6'], df_pd['label'], normalize='index').plot.bar(rot=0, stacked=True,\n",
    "            color=['green', 'red'], figsize=(4,4), title=\"Field6 với label\")\n",
    "plt.legend(loc='upper right', bbox_to_anchor=(1.2, 1))\n",
    "\n",
    "\n",
    "pd.crosstab(df_pd['Field12'], df_pd['label'], normalize='index').plot.bar(rot=0, stacked=True,                            \n",
    "            color=['green', 'red'], figsize=(4,4), title=\"Field12 với label\")\n",
    "plt.legend(loc='upper right', bbox_to_anchor=(1.2, 1))\n",
    "plt.show()"
   ]
  },
  {
   "cell_type": "markdown",
   "metadata": {},
   "source": [
    "#### Biểu đồ cột phân phối giá trị của một numerical variables (biến số)\n",
    "Chúng tôi tiến hành visualization sự phân bố giá trị ở cột Field7."
   ]
  },
  {
   "cell_type": "code",
   "execution_count": 51,
   "metadata": {},
   "outputs": [
    {
     "data": {
      "image/png": "[encoded data removed]",
      "text/plain": [
       "<Figure size 432x288 with 1 Axes>"
      ]
     },
     "metadata": {
      "needs_background": "light"
     },
     "output_type": "display_data"
    }
   ],
   "source": [
    "sns.distplot(df_pd['Field7'])\n",
    "plt.title('Phân bố các giá trị ở cột Field7', fontsize=15)\n",
    "plt.show()"
   ]
  },
  {
   "cell_type": "markdown",
   "metadata": {},
   "source": [
    "Chúng tôi tiến hành visualization một numerical variables (biến số) với label (nhãn). Ví dụ một lượng lớn khách hàng mua bảo hiểm (label=0) thì giá trị trong cột Field7 của họ nằm ở khoảng 23-24."
   ]
  },
  {
   "cell_type": "code",
   "execution_count": 52,
   "metadata": {},
   "outputs": [
    {
     "data": {
      "image/png": "[encoded data removed]",
      "text/plain": [
       "<Figure size 432x288 with 1 Axes>"
      ]
     },
     "metadata": {
      "needs_background": "light"
     },
     "output_type": "display_data"
    }
   ],
   "source": [
    "sns.kdeplot(df_pd[df_pd[\"label\"]==0][\"Field7\"], label=\"0\", color=\"green\")\n",
    "sns.kdeplot(df_pd[df_pd[\"label\"]==1][\"Field7\"], label=\"1\", color=\"red\")\n",
    "plt.title(\"Field7 với label\")\n",
    "plt.show()"
   ]
  },
  {
   "cell_type": "markdown",
   "metadata": {},
   "source": [
    "### Thay thế (replace) các giá trị ít xuất hiện trong tập train và tập test\n",
    "\n",
    "Chúng ta có thể thấy, có nhiều giá trị trong các cột với xuất hiện với số lượng ít, để không ảnh hưởng đến hiệu suất của mô hình chúng tôi tiến hành thay thế các giá trị này bằng các giá trị xuất hiện số lượng nhiều nhất trong mỗi cột.\n",
    "Chúng tôi chọn các giá trị xuất hiện dưới 0.7% trong tổng số 260753 thì sẽ bị thay thế."
   ]
  },
  {
   "cell_type": "code",
   "execution_count": 53,
   "metadata": {},
   "outputs": [],
   "source": [
    "threshold=98\n",
    "threshold2=0.7"
   ]
  },
  {
   "cell_type": "markdown",
   "metadata": {},
   "source": [
    "Đầu vào là  một dataframe và categorical variables (biến phân loại), thay thế các giá trị xuất hiện không đáng kể bằng giá trị có phần trăm xuất hiện lớn nhất và đầu ra là một dataframe mới."
   ]
  },
  {
   "cell_type": "code",
   "execution_count": 54,
   "metadata": {},
   "outputs": [],
   "source": [
    "def replace_cat2(f,cols):\n",
    "    df_percent=f.groupBy(cols).count().sort(col(\"count\").desc())\\\n",
    "                .withColumn('total',sum(col('count')).over(window))\\\n",
    "                .withColumn('Percent',col('count')*100/col('total')) \n",
    "    dominant_cat=df_percent.select(df_percent['Percent']).collect()[0][0] \n",
    "    count_dist=f.select([cols]).distinct().count()\n",
    "    if count_dist > 2 and dominant_cat <= threshold :\n",
    "        print('column:', cols)\n",
    "        cols_names.append(cols)  \n",
    "        replacement=f.groupBy(cols).count().sort(col(\"count\").desc()).collect()[0][0] \n",
    "        print(\"replacement:\",replacement)\n",
    "        replacing.append(replacement) \n",
    "        insign_cat=df_percent.filter(df_percent['Percent']< threshold2).select(df_percent[cols]).collect()\n",
    "        insign_cat=[r[cols] for r in insign_cat] \n",
    "        category.append(insign_cat) \n",
    "        print(\"insign_cat:\",insign_cat)\n",
    "        f=f.replace(insign_cat,replacement, cols) \n",
    "    return f"
   ]
  },
  {
   "cell_type": "markdown",
   "metadata": {},
   "source": [
    "Ví dụ chúng tôi tiến hành thống kê phần trăm xuất hiện của  các giá trị trong cột Field6, cho thấy giá trị 'B' có phần trăm xuất hiện nhiều nhất (36.3%). Do đó các giá trị có phần trăm xuất hiện nhỏ hơn 0.7% như 'A' (0.01%) và D (0.09%) sẽ được thay thế bằng giá trị xuất hiện nhiều nhất 'B'."
   ]
  },
  {
   "cell_type": "code",
   "execution_count": 55,
   "metadata": {},
   "outputs": [
    {
     "name": "stdout",
     "output_type": "stream",
     "text": [
      "+------+-----+------+--------------------+\n",
      "|Field6|count| total|             Percent|\n",
      "+------+-----+------+--------------------+\n",
      "|     B|94694|260753|  36.315593684444664|\n",
      "|     F|69053|260753|  26.482149773923982|\n",
      "|     J|51782|260753|   19.85864016904887|\n",
      "|     E|26063|260753|   9.995282892239015|\n",
      "|     K|13226|260753|   5.072233109494426|\n",
      "|     C| 5660|260753|   2.170636579444915|\n",
      "|     D|  240|260753| 0.09204112704360065|\n",
      "|     A|   35|260753|0.013422664360525095|\n",
      "+------+-----+------+--------------------+\n",
      "\n"
     ]
    }
   ],
   "source": [
    "df_percent=df_final.groupBy('Field6').count().sort(col(\"count\").desc())\\\n",
    "                    .withColumn('total',sum(col('count')).over(window))\\\n",
    "                    .withColumn('Percent',col('count')*100/col('total'))\n",
    "df_percent.show()"
   ]
  },
  {
   "cell_type": "markdown",
   "metadata": {},
   "source": [
    "#### Thay thế (replace) các giá trị ít xuất hiện trong tập train"
   ]
  },
  {
   "cell_type": "code",
   "execution_count": 56,
   "metadata": {},
   "outputs": [
    {
     "name": "stdout",
     "output_type": "stream",
     "text": [
      "column: Field6\n",
      "replacement: B\n",
      "insign_cat: ['D', 'A']\n",
      "column: Field10\n",
      "replacement: 935\n",
      "insign_cat: []\n",
      "column: CoverageField8\n",
      "replacement: Y\n",
      "insign_cat: ['Z', 'U', 'V', 'W']\n",
      "column: CoverageField9\n",
      "replacement: E\n",
      "insign_cat: ['B', 'I', 'H', 'C', 'L']\n",
      "column: SalesField7\n",
      "replacement: K\n",
      "insign_cat: []\n",
      "column: PersonalField16\n",
      "replacement: ZA\n",
      "insign_cat: ['XC', 'ZK', 'XI', 'ZD', 'ZE', 'XZ', 'ZJ', 'XL', 'XP', 'ZU', 'YI', 'XK', 'XF', 'ZB', 'XN', 'XT', 'ZI', 'XU', 'XY', 'ZO', 'ZQ', 'ZV', 'XV', 'ZL', 'ZS', 'ZP']\n",
      "column: PersonalField17\n",
      "replacement: ZE\n",
      "insign_cat: ['YU', 'YS', 'YL', 'XH', 'ZL', 'ZW', 'XB', 'XW', 'XL', 'ZS', 'YK', 'YX', 'ZN', 'ZO', 'ZG', 'ZC', 'ZP', 'YI', 'XT', 'XN', 'ZU', 'XC', 'YM', 'XI', 'XQ', 'XX', 'YT', 'ZM', 'YE', 'ZT', 'YZ', 'ZA', 'YQ', 'ZD', 'YW', 'YG', 'XD', 'ZR', 'YP', 'XM', 'XP', 'XY', 'XJ', 'ZB', 'XO']\n",
      "column: PersonalField18\n",
      "replacement: XR\n",
      "insign_cat: ['XK', 'XW', 'ZD', 'XO', 'ZL', 'XP', 'ZJ', 'ZF', 'YK', 'XN', 'ZV', 'ZQ', 'ZT', 'XY', 'XJ', 'XS', 'YL', 'XC', 'ZK', 'ZE', 'ZA', 'XT', 'ZU', 'ZR', 'XL', 'XI', 'ZO', 'XM', 'YH', 'XE', 'YR', 'ZC', 'YO', 'ZS', 'XG', 'ZM', 'YJ', 'YM', 'XD', 'XX', 'XV', 'ZB', 'ZG', 'ZI', 'XH']\n",
      "column: PersonalField19\n",
      "replacement: XD\n",
      "insign_cat: ['ZO', 'XT', 'ZA', 'YG', 'XZ', 'XY', 'ZJ', 'ZB', 'XF', 'YK', 'ZW', 'YE', 'XP', 'XN', 'XW', 'ZI', 'XI', 'YL', 'XM', 'YN', 'ZL', 'ZE', 'ZH', 'ZK', 'XJ', 'ZG', 'XV', 'ZF', 'XR', 'ZP', 'XK', 'YM', 'XB', 'ZM', 'ZR', 'ZU', 'XE', 'ZD', 'XO', 'XQ', 'XG', 'XH', 'YI', 'XL', 'ZC', 'XS']\n",
      "column: PropertyField7\n",
      "replacement: O\n",
      "insign_cat: ['K', 'H', 'E', 'L', 'F', 'G', 'M', 'P', 'C', 'B']\n",
      "column: PropertyField14\n",
      "replacement: C\n",
      "insign_cat: ['D']\n",
      "column: PropertyField28\n",
      "replacement: B\n",
      "insign_cat: ['C']\n",
      "column: PropertyField31\n",
      "replacement: O\n",
      "insign_cat: []\n",
      "column: PropertyField33\n",
      "replacement: H\n",
      "insign_cat: []\n",
      "column: GeographicField63\n",
      "replacement: N\n",
      "insign_cat: [' ']\n",
      "column: GeographicField64\n",
      "replacement: CA\n",
      "insign_cat: []\n"
     ]
    }
   ],
   "source": [
    "replacing=[]\n",
    "cols_names=[]\n",
    "category=[]\n",
    "for cols in cat_cols:\n",
    "    df_final=replace_cat2(df_final,cols)"
   ]
  },
  {
   "cell_type": "markdown",
   "metadata": {},
   "source": [
    "Từ hàm **replace_cat2** chúng tôi có ba list (danh sách) như sau:\n",
    "\n",
    "• Danh sách các columns (cols_names)\n",
    "\n",
    "• Danh sách các giá trị thay thế (replacing)\n",
    "\n",
    "• Danh sách các giá trị bị thay thế (category)\n",
    "\n",
    "Ba list (danh sách) này sẽ được tạo thành  một dataframe gọi là **g**."
   ]
  },
  {
   "cell_type": "code",
   "execution_count": 57,
   "metadata": {},
   "outputs": [
    {
     "name": "stdout",
     "output_type": "stream",
     "text": [
      "+---------------+---------+--------------------+\n",
      "|     cols_names|replacing|            category|\n",
      "+---------------+---------+--------------------+\n",
      "|         Field6|        B|              [D, A]|\n",
      "|        Field10|      935|                  []|\n",
      "| CoverageField8|        Y|        [Z, U, V, W]|\n",
      "| CoverageField9|        E|     [B, I, H, C, L]|\n",
      "|    SalesField7|        K|                  []|\n",
      "|PersonalField16|       ZA|[XC, ZK, XI, ZD, ...|\n",
      "|PersonalField17|       ZE|[YU, YS, YL, XH, ...|\n",
      "|PersonalField18|       XR|[XK, XW, ZD, XO, ...|\n",
      "|PersonalField19|       XD|[ZO, XT, ZA, YG, ...|\n",
      "+---------------+---------+--------------------+\n",
      "only showing top 9 rows\n",
      "\n"
     ]
    }
   ],
   "source": [
    "# Tạo dataframe\n",
    "g=spark.createDataFrame(list(zip(cols_names, replacing, category)),['cols_names', 'replacing', 'category'])\n",
    "g.show(9)"
   ]
  },
  {
   "cell_type": "code",
   "execution_count": 58,
   "metadata": {},
   "outputs": [
    {
     "data": {
      "text/plain": [
       "[('cols_names', 'string'),\n",
       " ('replacing', 'string'),\n",
       " ('category', 'array<string>')]"
      ]
     },
     "execution_count": 58,
     "metadata": {},
     "output_type": "execute_result"
    }
   ],
   "source": [
    "g.dtypes"
   ]
  },
  {
   "cell_type": "code",
   "execution_count": 59,
   "metadata": {},
   "outputs": [
    {
     "name": "stdout",
     "output_type": "stream",
     "text": [
      "root\n",
      " |-- cols_names: string (nullable = true)\n",
      " |-- replacing: string (nullable = true)\n",
      " |-- category: array (nullable = true)\n",
      " |    |-- element: string (containsNull = true)\n",
      "\n"
     ]
    }
   ],
   "source": [
    "g.printSchema()"
   ]
  },
  {
   "cell_type": "markdown",
   "metadata": {},
   "source": [
    "Sau khi tiến hành thay thế các giá trị ít xuất hiện trong tập train, chúng tôi tiến hành kiểm tra lại phần trăm xuất hiện của giá trị trong cột. Bên dưới là ví dụ về phần trăm xuất hiện của các giá trị trong cột CoverageField8."
   ]
  },
  {
   "cell_type": "code",
   "execution_count": 60,
   "metadata": {},
   "outputs": [],
   "source": [
    "f_percent=df_final.groupBy('CoverageField8').count().sort(col(\"count\").desc())\\\n",
    "                       .withColumn('total',sum(col('count')).over(window))\\\n",
    "                       .withColumn('Percent',col('count')*100/col('total'))"
   ]
  },
  {
   "cell_type": "code",
   "execution_count": 61,
   "metadata": {
    "scrolled": false
   },
   "outputs": [
    {
     "name": "stdout",
     "output_type": "stream",
     "text": [
      "+--------------+------+------+------------------+\n",
      "|CoverageField8| count| total|           Percent|\n",
      "+--------------+------+------+------------------+\n",
      "|             Y|145350|260753|55.742407565780645|\n",
      "|             T| 93778|260753|35.964303382894926|\n",
      "|             X| 21625|260753| 8.293289051324434|\n",
      "+--------------+------+------+------------------+\n",
      "\n"
     ]
    }
   ],
   "source": [
    "f_percent.show()"
   ]
  },
  {
   "cell_type": "markdown",
   "metadata": {},
   "source": [
    "#### Thay thế (replace) các giá trị ít xuất hiện trong tập test\n",
    "Chúng tôi đã có một dataframe $g$ chứa thông tin về các cột, các giá trị thay thế và bị thay thế trong quá trình thay thế các  các giá trị ít xuất hiện ở tập train. Dựa vào những thông tin trên, các giá trị ít xuất hiện ở các cột trong tập test sẽ bị thay thế tương tự như ở tập train."
   ]
  },
  {
   "cell_type": "code",
   "execution_count": 62,
   "metadata": {
    "scrolled": true
   },
   "outputs": [
    {
     "name": "stdout",
     "output_type": "stream",
     "text": [
      "+-----------------+---------+--------------------+\n",
      "|       cols_names|replacing|            category|\n",
      "+-----------------+---------+--------------------+\n",
      "|           Field6|        B|              [D, A]|\n",
      "|          Field10|      935|                  []|\n",
      "|   CoverageField8|        Y|        [Z, U, V, W]|\n",
      "|   CoverageField9|        E|     [B, I, H, C, L]|\n",
      "|      SalesField7|        K|                  []|\n",
      "|  PersonalField16|       ZA|[XC, ZK, XI, ZD, ...|\n",
      "|  PersonalField17|       ZE|[YU, YS, YL, XH, ...|\n",
      "|  PersonalField18|       XR|[XK, XW, ZD, XO, ...|\n",
      "|  PersonalField19|       XD|[ZO, XT, ZA, YG, ...|\n",
      "|   PropertyField7|        O|[K, H, E, L, F, G...|\n",
      "|  PropertyField14|        C|                 [D]|\n",
      "|  PropertyField28|        B|                 [C]|\n",
      "|  PropertyField31|        O|                  []|\n",
      "|  PropertyField33|        H|                  []|\n",
      "|GeographicField63|        N|                 [ ]|\n",
      "+-----------------+---------+--------------------+\n",
      "only showing top 15 rows\n",
      "\n"
     ]
    }
   ],
   "source": [
    "#xem dataframe \n",
    "g.show(15)"
   ]
  },
  {
   "cell_type": "markdown",
   "metadata": {},
   "source": [
    "Chúng tôi tiến hành thay thế các giá trị ít xuất hiện trong các cột ở tập test."
   ]
  },
  {
   "cell_type": "code",
   "execution_count": 63,
   "metadata": {},
   "outputs": [
    {
     "name": "stdout",
     "output_type": "stream",
     "text": [
      "cols_names: Field6\n",
      "replacement_cat: B\n",
      "insignificant_cat: ['D', 'A']\n",
      "cols_names: Field10\n",
      "replacement_cat: 935\n",
      "insignificant_cat: []\n",
      "cols_names: CoverageField8\n",
      "replacement_cat: Y\n",
      "insignificant_cat: ['Z', 'U', 'V', 'W']\n",
      "cols_names: CoverageField9\n",
      "replacement_cat: E\n",
      "insignificant_cat: ['B', 'I', 'H', 'C', 'L']\n",
      "cols_names: SalesField7\n",
      "replacement_cat: K\n",
      "insignificant_cat: []\n",
      "cols_names: PersonalField16\n",
      "replacement_cat: ZA\n",
      "insignificant_cat: ['XC', 'ZK', 'XI', 'ZD', 'ZE', 'XZ', 'ZJ', 'XL', 'XP', 'ZU', 'YI', 'XK', 'XF', 'ZB', 'XN', 'XT', 'ZI', 'XU', 'XY', 'ZO', 'ZQ', 'ZV', 'XV', 'ZL', 'ZS', 'ZP']\n",
      "cols_names: PersonalField17\n",
      "replacement_cat: ZE\n",
      "insignificant_cat: ['YU', 'YS', 'YL', 'XH', 'ZL', 'ZW', 'XB', 'XW', 'XL', 'ZS', 'YK', 'YX', 'ZN', 'ZO', 'ZG', 'ZC', 'ZP', 'YI', 'XT', 'XN', 'ZU', 'XC', 'YM', 'XI', 'XQ', 'XX', 'YT', 'ZM', 'YE', 'ZT', 'YZ', 'ZA', 'YQ', 'ZD', 'YW', 'YG', 'XD', 'ZR', 'YP', 'XM', 'XP', 'XY', 'XJ', 'ZB', 'XO']\n",
      "cols_names: PersonalField18\n",
      "replacement_cat: XR\n",
      "insignificant_cat: ['XK', 'XW', 'ZD', 'XO', 'ZL', 'XP', 'ZJ', 'ZF', 'YK', 'XN', 'ZV', 'ZQ', 'ZT', 'XY', 'XJ', 'XS', 'YL', 'XC', 'ZK', 'ZE', 'ZA', 'XT', 'ZU', 'ZR', 'XL', 'XI', 'ZO', 'XM', 'YH', 'XE', 'YR', 'ZC', 'YO', 'ZS', 'XG', 'ZM', 'YJ', 'YM', 'XD', 'XX', 'XV', 'ZB', 'ZG', 'ZI', 'XH']\n",
      "cols_names: PersonalField19\n",
      "replacement_cat: XD\n",
      "insignificant_cat: ['ZO', 'XT', 'ZA', 'YG', 'XZ', 'XY', 'ZJ', 'ZB', 'XF', 'YK', 'ZW', 'YE', 'XP', 'XN', 'XW', 'ZI', 'XI', 'YL', 'XM', 'YN', 'ZL', 'ZE', 'ZH', 'ZK', 'XJ', 'ZG', 'XV', 'ZF', 'XR', 'ZP', 'XK', 'YM', 'XB', 'ZM', 'ZR', 'ZU', 'XE', 'ZD', 'XO', 'XQ', 'XG', 'XH', 'YI', 'XL', 'ZC', 'XS']\n",
      "cols_names: PropertyField7\n",
      "replacement_cat: O\n",
      "insignificant_cat: ['K', 'H', 'E', 'L', 'F', 'G', 'M', 'P', 'C', 'B']\n",
      "cols_names: PropertyField14\n",
      "replacement_cat: C\n",
      "insignificant_cat: ['D']\n",
      "cols_names: PropertyField28\n",
      "replacement_cat: B\n",
      "insignificant_cat: ['C']\n",
      "cols_names: PropertyField31\n",
      "replacement_cat: O\n",
      "insignificant_cat: []\n",
      "cols_names: PropertyField33\n",
      "replacement_cat: H\n",
      "insignificant_cat: []\n",
      "cols_names: GeographicField63\n",
      "replacement_cat: N\n",
      "insignificant_cat: [' ']\n",
      "cols_names: GeographicField64\n",
      "replacement_cat: CA\n",
      "insignificant_cat: []\n"
     ]
    }
   ],
   "source": [
    "cols_names_list=g.select('cols_names').collect() # chọn lấy cols_names từ dataframe g\n",
    "cols_names_list=[r['cols_names'] for r in cols_names_list] \n",
    "\n",
    "# Hàm thay thế các giá trị ít xuất hiện trong tập test\n",
    "for z in cols_names_list:\n",
    "    print('cols_names:',z)\n",
    "    replacement_cat=g.filter(g['cols_names']== z).select(g['replacing']).collect()[0][0] \n",
    "    print('replacement_cat:', replacement_cat)\n",
    "    insignificant_cat=g.filter(g['cols_names']== z).select(g['category']).collect()[0][0] \n",
    "    print('insignificant_cat:',insignificant_cat)\n",
    "    test_data=test_data.replace(insignificant_cat,replacement_cat, z)"
   ]
  },
  {
   "cell_type": "markdown",
   "metadata": {},
   "source": [
    "### Biến đổi tập train data và tập test theo định dạng của Spark\n",
    "Trước khi đào tạo mô hình, chúng tôi chuyển đổi tập dữ liệu theo định dạng của spark, đưa tất cả các categorical variables (biến phân loại) về dạng số. Trong SparkML có một cách xử lý đối với các categorical variables (biến phân loại) gồm các bước sau:\n",
    "\n",
    "• StringIndexer, mã hóa string label (các giá trị nhãn ở dạng chuỗi) thành index label (các giá trị nhãn ở dạng số) bằng cách sắp xếp theo thứ tự giảm dần tần số xuất hiện của string label và đưa ra chỉ số nhỏ nhất (giá trị 0) đối với string label có tần số xuất hiện nhiều nhất.\n",
    "\n",
    "• One-hot Encoding, mapping (ánh xạ) string label (các giá trị nhãn ở dạng chuỗi) sang dạng nhị phân.\n",
    "\n",
    "• Vector assembler, mapping (ánh xạ) các cột sang dạng vector (features)."
   ]
  },
  {
   "cell_type": "markdown",
   "metadata": {},
   "source": [
    "Đầu vào là hai dataframe mà chúng ta muốn so sánh (compare) các categorical variables (biến phân loại) và đầu ra là tổng các distinct categoriest trong cả hai dataframe."
   ]
  },
  {
   "cell_type": "code",
   "execution_count": 64,
   "metadata": {},
   "outputs": [],
   "source": [
    "def check_distinct(a1,a2):\n",
    "    total1=0\n",
    "    total2=0\n",
    "    for y in cat_cols:\n",
    "        distinct1=a1.select([y]).distinct().count()\n",
    "        distinct2=a2.select([y]).distinct().count() \n",
    "        var1=a1.select([y]).distinct().collect()\n",
    "        var1=[r[y] for r in var1]\n",
    "        var2=a2.select([y]).distinct().collect()\n",
    "        var2=[r[y] for r in var2]\n",
    "        total1=total1+distinct1\n",
    "        total2=total2+distinct2   \n",
    "    return total1, total2    "
   ]
  },
  {
   "cell_type": "code",
   "execution_count": 65,
   "metadata": {},
   "outputs": [],
   "source": [
    "def feature_engineering(a1):    \n",
    "    cat_columns_string_vec = []\n",
    "    for c in cat_cols:\n",
    "        cat_columns_string= c+\"_vec\"\n",
    "        cat_columns_string_vec.append(cat_columns_string)\n",
    "    stringIndexer = [StringIndexer(inputCol=x, outputCol=x+\"_Index\")\n",
    "                  for x in cat_cols]\n",
    "    #Dùng onehothncoding để mã hóa categorical variable sang dạng nhị phân\n",
    "    encoder = [OneHotEncoder(inputCol=x+\"_Index\", outputCol=y)\n",
    "           for x,y in zip(cat_cols, cat_columns_string_vec)]\n",
    "    tmp = [[i,j] for i,j in zip(stringIndexer, encoder)]\n",
    "    tmp = [i for sublist in tmp for i in sublist]\n",
    "    cols_assember=num_id + num_cols + cat_columns_string_vec\n",
    "    assembler=VectorAssembler(inputCols=cols_assember, outputCol='features')\n",
    "    tmp += [assembler]\n",
    "    pipeline=Pipeline(stages=tmp)\n",
    "    df_final_feat=pipeline.fit(a1).transform(a1)\n",
    "    return df_final_feat"
   ]
  },
  {
   "cell_type": "markdown",
   "metadata": {},
   "source": [
    "Chúng tôi dùng hàm check_distinct để kiểm tra distinct categories giữa tập train và tập test. \n",
    "\n",
    "• Nếu distinct categories giữa tập train và tập test không giống nhau: Chúng tôi tiến hành join (kết hợp) tập train và tập test lại với nhau và sau đó thực hiện feature engineering. Việc join này là cần thiết để tránh sai sót trong việc xây dựng mô hình do sự khác biệt về độ dài vector của tập train và độ dài vector của tập test.\n",
    "\n",
    "• Nếu distinct categories giữa tập train và tập test giống nhau: Chúng tôi thực hiện feature engineering ở tập train và tập test riêng biệt nhau."
   ]
  },
  {
   "cell_type": "code",
   "execution_count": 66,
   "metadata": {},
   "outputs": [],
   "source": [
    "def Main_feature_engineering(df,df2): \n",
    "    dist_total1, dist_total2=check_distinct(df,df2)   \n",
    "    if dist_total1!=dist_total2:\n",
    "        Label_df=df.select('Id', 'label')\n",
    "        df_final2=df.drop('label')\n",
    "        all_df =df_final2.union(df2)\n",
    "        all_df_feat=feature_engineering(all_df)\n",
    "        id_train=df.select('Id').collect()\n",
    "        id_train=[r['Id'] for r in id_train]\n",
    "        id_test=df2.select('Id').collect()\n",
    "        id_test=[r['Id'] for r in id_test]\n",
    "        a=all_df_feat.filter(all_df['Id'].isin(id_train))\n",
    "        b=all_df_feat.filter(all_df['Id'].isin(id_test))\n",
    "        a=a.join(Label_df, 'Id')\n",
    "    else:\n",
    "        a=feature_engineering(df)\n",
    "        b=feature_engineering(df2)        \n",
    "    return a,b"
   ]
  },
  {
   "cell_type": "markdown",
   "metadata": {},
   "source": [
    "Gọi sử dụng hàm feature engineering"
   ]
  },
  {
   "cell_type": "code",
   "execution_count": 67,
   "metadata": {},
   "outputs": [
    {
     "name": "stdout",
     "output_type": "stream",
     "text": [
      "Wall time: 4min 13s\n"
     ]
    }
   ],
   "source": [
    "%time data2, test2=Main_feature_engineering(df_final, test_data)"
   ]
  },
  {
   "cell_type": "markdown",
   "metadata": {},
   "source": [
    "Xem kết quả feature engineering ở tập train."
   ]
  },
  {
   "cell_type": "code",
   "execution_count": 68,
   "metadata": {},
   "outputs": [
    {
     "name": "stdout",
     "output_type": "stream",
     "text": [
      "+---+--------------------+\n",
      "| Id|            features|\n",
      "+---+--------------------+\n",
      "|  1|(397,[0,1,2,3,4,5...|\n",
      "|  2|(397,[0,1,2,3,4,5...|\n",
      "|  4|(397,[0,1,2,3,4,5...|\n",
      "|  6|(397,[0,1,2,3,4,5...|\n",
      "|  8|(397,[0,1,2,3,4,5...|\n",
      "+---+--------------------+\n",
      "only showing top 5 rows\n",
      "\n"
     ]
    }
   ],
   "source": [
    "data2.select('Id', 'features').show(5)"
   ]
  },
  {
   "cell_type": "markdown",
   "metadata": {},
   "source": [
    "Xem kết quả feature engineering ở tập test."
   ]
  },
  {
   "cell_type": "code",
   "execution_count": 69,
   "metadata": {
    "scrolled": true
   },
   "outputs": [
    {
     "name": "stdout",
     "output_type": "stream",
     "text": [
      "+---+--------------------+\n",
      "| Id|            features|\n",
      "+---+--------------------+\n",
      "|  3|(397,[0,1,2,3,4,5...|\n",
      "|  5|(397,[0,1,2,3,4,5...|\n",
      "|  7|(397,[0,1,2,3,4,5...|\n",
      "|  9|(397,[0,1,2,3,4,5...|\n",
      "| 10|(397,[0,1,2,3,4,5...|\n",
      "+---+--------------------+\n",
      "only showing top 5 rows\n",
      "\n"
     ]
    }
   ],
   "source": [
    "test2.select('Id', 'features').show(5)"
   ]
  },
  {
   "cell_type": "markdown",
   "metadata": {},
   "source": [
    "## XÂY DỰNG VÀ ĐÁNH GIÁ MÔ HÌNH"
   ]
  },
  {
   "cell_type": "markdown",
   "metadata": {},
   "source": [
    "### Chia tập train thành train and validation\n",
    "Chia tập train thành hai tập train và validation trước khi xây dựng mô hình. Chúng tôi dùng randomSplit để chia tập dữ liệu một cách ngẫu nhiên: \n",
    "\n",
    "• Tập train (data_train) : 70%\n",
    "\n",
    "• Tập validation (data_val): 30%"
   ]
  },
  {
   "cell_type": "code",
   "execution_count": 70,
   "metadata": {},
   "outputs": [],
   "source": [
    "# Chia df_final thành train and validation, train 70% và validation 30%.\n",
    "data_train, data_val=data2.randomSplit([0.7,0.3], 24)"
   ]
  },
  {
   "cell_type": "markdown",
   "metadata": {},
   "source": [
    "### Mô hình Logistic Regression\n",
    "#### Xây dựng mô hình"
   ]
  },
  {
   "cell_type": "code",
   "execution_count": 71,
   "metadata": {},
   "outputs": [],
   "source": [
    "# Xây dựng mô hình logistic regression từ tập data train\n",
    "lr=LogisticRegression(featuresCol='features', labelCol='label')\n",
    "lr_model = lr.fit(data_train)\n",
    "\n",
    "# Áp dụng mô hình ở tập data val để kiểm tra\n",
    "lr_result = lr_model.transform(data_val)"
   ]
  },
  {
   "cell_type": "markdown",
   "metadata": {},
   "source": [
    "Kết quả bên dưới ,mô tả các id khách hàng với các nhãn (label) thật sự 0 là đã mua bảo hiểm và 1 là không mua bảo hiểm. Prediction là nhãn mà mô hình đã dự đoán. Probability là xác suất dự đoán của mô hình. \n",
    "\n",
    "Ví dụ, khách hàng có id là 14 đã mua bảo hiểm và mô hình dự doán xác suất mà khách hàng này mua bảo hiểm là 98%, khách hàng có id là 26 không mua bảo hiểm và mô hình dự đoán xác suất khách hàng này mua bảo hiểm là 2%."
   ]
  },
  {
   "cell_type": "code",
   "execution_count": 72,
   "metadata": {
    "scrolled": true
   },
   "outputs": [
    {
     "name": "stdout",
     "output_type": "stream",
     "text": [
      "+---+-----+----------+--------------------+\n",
      "| Id|label|prediction|         probability|\n",
      "+---+-----+----------+--------------------+\n",
      "| 14|    0|       0.0|[0.98532361927230...|\n",
      "| 19|    0|       0.0|[0.89594049307716...|\n",
      "| 26|    1|       1.0|[0.02192190745466...|\n",
      "| 28|    0|       0.0|[0.51188083524367...|\n",
      "| 35|    0|       0.0|[0.92060508074044...|\n",
      "+---+-----+----------+--------------------+\n",
      "only showing top 5 rows\n",
      "\n"
     ]
    }
   ],
   "source": [
    "# Xem id, label, prediction (dự đoán) và kết quả xác suất của mô hình\n",
    "lr_result.select('Id', 'label', 'prediction', 'probability').show(5)"
   ]
  },
  {
   "cell_type": "markdown",
   "metadata": {},
   "source": [
    "#### Đánh giá mô hình\n",
    "$Accuracy$ là tỉ lệ giữa số điểm được phân loại đúng và tổng số điểm. $AUC$ (Area Under the Curve) là diện tích nằm dưới $ROC$ curve. Giá trị này là một số dương nhỏ hơn hoặc bằng 1. Giá trị này càng lớn thì mô hình càng tốt.\n",
    "\n",
    "Chúng tôi tiến hành tính giá trị của $Accuracy$ và $AUC$. Kết quả thu được là $Accuracy$ = 0.91 và $AUC$ = 0.94"
   ]
  },
  {
   "cell_type": "code",
   "execution_count": 73,
   "metadata": {},
   "outputs": [
    {
     "name": "stdout",
     "output_type": "stream",
     "text": [
      "Độ đo đánh giá  mô hình Logistic Regression\n",
      "Accuracy = 0.91\n",
      "AUC = 0.94\n"
     ]
    }
   ],
   "source": [
    "# Đánh giá mô hình bằng cách kiểm tra giá trị accuracy và AUC.\n",
    "lr_eval = BinaryClassificationEvaluator(rawPredictionCol=\"probability\", labelCol=\"label\")\n",
    "lr_eval2= MulticlassClassificationEvaluator(predictionCol=\"prediction\", labelCol=\"label\")\n",
    "lr_AUC  = lr_eval.evaluate(lr_result)\n",
    "lr_ACC  = lr_eval2.evaluate(lr_result, {lr_eval2.metricName:\"accuracy\"})\n",
    "\n",
    "print(\"Độ đo đánh giá  mô hình Logistic Regression\")\n",
    "print(\"Accuracy = %0.2f\" % lr_ACC)\n",
    "print(\"AUC = %.2f\" % lr_AUC)"
   ]
  },
  {
   "cell_type": "markdown",
   "metadata": {},
   "source": [
    "#####  Xây dựng Confusion Matrix\n",
    "Chúng tôi xây dựng $Confusion Matrix$. Sau đó, chúng tôi tiến hành tính $Accuracy$, $Sensitivity$, $Specificity$, $Precision$ "
   ]
  },
  {
   "cell_type": "code",
   "execution_count": 74,
   "metadata": {},
   "outputs": [
    {
     "data": {
      "text/html": [
       "<div>\n",
       "<style scoped>\n",
       "    .dataframe tbody tr th:only-of-type {\n",
       "        vertical-align: middle;\n",
       "    }\n",
       "\n",
       "    .dataframe tbody tr th {\n",
       "        vertical-align: top;\n",
       "    }\n",
       "\n",
       "    .dataframe thead th {\n",
       "        text-align: right;\n",
       "    }\n",
       "</style>\n",
       "<table border=\"1\" class=\"dataframe\">\n",
       "  <thead>\n",
       "    <tr style=\"text-align: right;\">\n",
       "      <th></th>\n",
       "      <th>prediction_label</th>\n",
       "      <th>0</th>\n",
       "      <th>1</th>\n",
       "    </tr>\n",
       "  </thead>\n",
       "  <tbody>\n",
       "    <tr>\n",
       "      <th>0</th>\n",
       "      <td>1.0</td>\n",
       "      <td>1775</td>\n",
       "      <td>9483</td>\n",
       "    </tr>\n",
       "    <tr>\n",
       "      <th>1</th>\n",
       "      <td>0.0</td>\n",
       "      <td>61739</td>\n",
       "      <td>5204</td>\n",
       "    </tr>\n",
       "  </tbody>\n",
       "</table>\n",
       "</div>"
      ],
      "text/plain": [
       "  prediction_label      0     1\n",
       "0              1.0   1775  9483\n",
       "1              0.0  61739  5204"
      ]
     },
     "execution_count": 74,
     "metadata": {},
     "output_type": "execute_result"
    }
   ],
   "source": [
    "cm_lr_result = lr_result.crosstab(\"prediction\", \"label\")\n",
    "cm_lr_result = cm_lr_result.toPandas()\n",
    "cm_lr_result"
   ]
  },
  {
   "cell_type": "code",
   "execution_count": 75,
   "metadata": {},
   "outputs": [
    {
     "name": "stdout",
     "output_type": "stream",
     "text": [
      "Accuracy = 0.91\n",
      "Sensitivity = 0.65\n",
      "Specificity = 0.97\n",
      "Precision = 0.84\n"
     ]
    }
   ],
   "source": [
    "# Tính Accuracy, Sensitivity, Specificity, Precision\n",
    "TP = cm_lr_result[\"1\"][0]\n",
    "FP = cm_lr_result[\"0\"][0]\n",
    "TN = cm_lr_result[\"0\"][1]\n",
    "FN = cm_lr_result[\"1\"][1]\n",
    "Accuracy = (TP+TN)/(TP+FP+TN+FN)\n",
    "Sensitivity = TP/(TP+FN)\n",
    "Specificity = TN/(TN+FP)\n",
    "Precision = TP/(TP+FP)\n",
    "\n",
    "print (\"Accuracy = %0.2f\" %Accuracy )\n",
    "print (\"Sensitivity = %0.2f\" %Sensitivity )\n",
    "print (\"Specificity = %0.2f\" %Specificity )\n",
    "print (\"Precision = %0.2f\" %Precision )"
   ]
  },
  {
   "cell_type": "markdown",
   "metadata": {},
   "source": [
    "#####  Tính hệ số Gini từ AUC"
   ]
  },
  {
   "cell_type": "code",
   "execution_count": 76,
   "metadata": {},
   "outputs": [
    {
     "name": "stdout",
     "output_type": "stream",
     "text": [
      "AUC=0.94\n",
      "GINI ~=0.88\n"
     ]
    }
   ],
   "source": [
    "AUC = lr_AUC\n",
    "Gini = (2 * AUC - 1)\n",
    "print(\"AUC=%.2f\" % AUC)\n",
    "print(\"GINI ~=%.2f\" % Gini)"
   ]
  },
  {
   "cell_type": "markdown",
   "metadata": {},
   "source": [
    "### Mô hình Decision Tree\n",
    "#### Xây dựng mô hình"
   ]
  },
  {
   "cell_type": "code",
   "execution_count": 77,
   "metadata": {},
   "outputs": [],
   "source": [
    "#  Xây dựng mô hình decision tree từ tập data train\n",
    "dt=DecisionTreeClassifier(featuresCol = 'features', labelCol = 'label', maxDepth = 3)\n",
    "dt_model = dt.fit(data_train)\n",
    "\n",
    "# Áp dụng mô hình ở tập data val để kiểm tra\n",
    "dt_result = dt_model.transform(data_val)"
   ]
  },
  {
   "cell_type": "code",
   "execution_count": 78,
   "metadata": {
    "scrolled": true
   },
   "outputs": [
    {
     "name": "stdout",
     "output_type": "stream",
     "text": [
      "+---+-----+----------+--------------------+\n",
      "| Id|label|prediction|         probability|\n",
      "+---+-----+----------+--------------------+\n",
      "| 14|    0|       0.0|[0.94966697089150...|\n",
      "| 19|    0|       0.0|[0.69203875009104...|\n",
      "| 26|    1|       1.0|[0.00475237618809...|\n",
      "| 28|    0|       0.0|[0.69203875009104...|\n",
      "| 35|    0|       0.0|[0.94966697089150...|\n",
      "+---+-----+----------+--------------------+\n",
      "only showing top 5 rows\n",
      "\n"
     ]
    }
   ],
   "source": [
    "# Xem id, label, prediction (dự đoán) và kết quả xác suất của mô hình\n",
    "dt_result.select('Id', 'label', 'prediction', 'probability').show(5)"
   ]
  },
  {
   "cell_type": "markdown",
   "metadata": {},
   "source": [
    "#### Đánh giá mô hình\n",
    "Chúng tôi tiến hành tính giá trị của $Accuracy$ và $AUC$. Kết quả thu được là $Acuracy$ = 0.88 và $AUC$ = 0.85"
   ]
  },
  {
   "cell_type": "code",
   "execution_count": 79,
   "metadata": {},
   "outputs": [
    {
     "name": "stdout",
     "output_type": "stream",
     "text": [
      "Độ đo đánh giá  mô hình Decision Tree\n",
      "Accuracy = 0.88\n",
      "AUC = 0.85\n"
     ]
    }
   ],
   "source": [
    "# Đánh giá mô hình bằng cách kiểm tra giá trị accuracy và AUC.\n",
    "dt_eval = BinaryClassificationEvaluator(rawPredictionCol=\"probability\", labelCol=\"label\")\n",
    "dt_eval2= MulticlassClassificationEvaluator(predictionCol=\"prediction\", labelCol=\"label\")\n",
    "dt_AUC  = dt_eval.evaluate(dt_result)\n",
    "dt_ACC  = dt_eval2.evaluate(dt_result, {dt_eval2.metricName:\"accuracy\"})\n",
    "\n",
    "print(\"Độ đo đánh giá  mô hình Decision Tree\")\n",
    "print(\"Accuracy = %0.2f\" % dt_ACC)\n",
    "print(\"AUC = %.2f\" % dt_AUC)"
   ]
  },
  {
   "cell_type": "markdown",
   "metadata": {},
   "source": [
    "#####  Xây dựng Confusion Matrix\n",
    "Chúng tôi xây dựng $Confusion Matrix$. Sau đó, chúng tôi tiến hành tính $Accuracy$, $Sensitivity$, $Specificity$, $Precision$ "
   ]
  },
  {
   "cell_type": "code",
   "execution_count": 80,
   "metadata": {},
   "outputs": [
    {
     "data": {
      "text/html": [
       "<div>\n",
       "<style scoped>\n",
       "    .dataframe tbody tr th:only-of-type {\n",
       "        vertical-align: middle;\n",
       "    }\n",
       "\n",
       "    .dataframe tbody tr th {\n",
       "        vertical-align: top;\n",
       "    }\n",
       "\n",
       "    .dataframe thead th {\n",
       "        text-align: right;\n",
       "    }\n",
       "</style>\n",
       "<table border=\"1\" class=\"dataframe\">\n",
       "  <thead>\n",
       "    <tr style=\"text-align: right;\">\n",
       "      <th></th>\n",
       "      <th>prediction_label</th>\n",
       "      <th>0</th>\n",
       "      <th>1</th>\n",
       "    </tr>\n",
       "  </thead>\n",
       "  <tbody>\n",
       "    <tr>\n",
       "      <th>0</th>\n",
       "      <td>1.0</td>\n",
       "      <td>35</td>\n",
       "      <td>5234</td>\n",
       "    </tr>\n",
       "    <tr>\n",
       "      <th>1</th>\n",
       "      <td>0.0</td>\n",
       "      <td>63479</td>\n",
       "      <td>9453</td>\n",
       "    </tr>\n",
       "  </tbody>\n",
       "</table>\n",
       "</div>"
      ],
      "text/plain": [
       "  prediction_label      0     1\n",
       "0              1.0     35  5234\n",
       "1              0.0  63479  9453"
      ]
     },
     "execution_count": 80,
     "metadata": {},
     "output_type": "execute_result"
    }
   ],
   "source": [
    "cm_dt_result = dt_result.crosstab(\"prediction\", \"label\")\n",
    "cm_dt_result = cm_dt_result.toPandas()\n",
    "cm_dt_result"
   ]
  },
  {
   "cell_type": "code",
   "execution_count": 81,
   "metadata": {},
   "outputs": [
    {
     "name": "stdout",
     "output_type": "stream",
     "text": [
      "Accuracy = 0.88\n",
      "Sensitivity = 0.36\n",
      "Specificity = 1.00\n",
      "Precision = 0.99\n"
     ]
    }
   ],
   "source": [
    "# Tính Accuracy, Sensitivity, Specificity, Precision\n",
    "TP = cm_dt_result[\"1\"][0]\n",
    "FP = cm_dt_result[\"0\"][0]\n",
    "TN = cm_dt_result[\"0\"][1]\n",
    "FN = cm_dt_result[\"1\"][1]\n",
    "Accuracy = (TP+TN)/(TP+FP+TN+FN)\n",
    "Sensitivity = TP/(TP+FN)\n",
    "Specificity = TN/(TN+FP)\n",
    "Precision = TP/(TP+FP)\n",
    "\n",
    "print (\"Accuracy = %0.2f\" %Accuracy )\n",
    "print (\"Sensitivity = %0.2f\" %Sensitivity )\n",
    "print (\"Specificity = %0.2f\" %Specificity )\n",
    "print (\"Precision = %0.2f\" %Precision )"
   ]
  },
  {
   "cell_type": "markdown",
   "metadata": {},
   "source": [
    "##### Tính hệ số Gini từ AUC \n",
    "Chúng tôi tính hệ số $Gini$ cho mô hình và được giá trị $Gini$ là 0.69."
   ]
  },
  {
   "cell_type": "code",
   "execution_count": 82,
   "metadata": {},
   "outputs": [
    {
     "name": "stdout",
     "output_type": "stream",
     "text": [
      "AUC=0.85\n",
      "GINI ~=0.69\n"
     ]
    }
   ],
   "source": [
    "AUC = dt_AUC\n",
    "Gini_dt = (2 * AUC - 1)\n",
    "print(\"AUC=%.2f\" % AUC)\n",
    "print(\"GINI ~=%.2f\" % Gini_dt)"
   ]
  },
  {
   "cell_type": "markdown",
   "metadata": {},
   "source": [
    "### Mô hình Random Forest\n",
    "#### Xây dựng mô hình"
   ]
  },
  {
   "cell_type": "code",
   "execution_count": 83,
   "metadata": {},
   "outputs": [],
   "source": [
    "#  Xây dựng mô hình Random Forest từ tập data train\n",
    "rf = RandomForestClassifier(featuresCol='features', labelCol=\"label\")\n",
    "rf_model = rf.fit(data_train)\n",
    "\n",
    "# Áp dụng mô hình ở tập data val để kiểm tra\n",
    "rf_result = rf_model.transform(data_val)"
   ]
  },
  {
   "cell_type": "code",
   "execution_count": 84,
   "metadata": {},
   "outputs": [
    {
     "name": "stdout",
     "output_type": "stream",
     "text": [
      "+---+-----+----------+--------------------+\n",
      "| Id|label|prediction|         probability|\n",
      "+---+-----+----------+--------------------+\n",
      "| 14|    0|       0.0|[0.90056297479093...|\n",
      "| 19|    0|       0.0|[0.65826847267150...|\n",
      "| 26|    1|       0.0|[0.65374732939939...|\n",
      "| 28|    0|       0.0|[0.67971159610546...|\n",
      "| 35|    0|       0.0|[0.82276665653703...|\n",
      "+---+-----+----------+--------------------+\n",
      "only showing top 5 rows\n",
      "\n"
     ]
    }
   ],
   "source": [
    "# Xem id, label, prediction (dự đoán) và kết quả xác suất của mô hình\n",
    "rf_result.select('Id', 'label', 'prediction', 'probability').show(5)"
   ]
  },
  {
   "cell_type": "markdown",
   "metadata": {},
   "source": [
    "#### Đánh giá mô hình"
   ]
  },
  {
   "cell_type": "code",
   "execution_count": 85,
   "metadata": {},
   "outputs": [
    {
     "name": "stdout",
     "output_type": "stream",
     "text": [
      "Độ đo đánh giá  mô hình Random Forest \n",
      "Accuracy = 0.82\n",
      "AUC = 0.87\n"
     ]
    }
   ],
   "source": [
    "# Đánh giá mô hình bằng cách kiểm tra giá trị accuracy và AUC.\n",
    "rf_eval = BinaryClassificationEvaluator(rawPredictionCol=\"probability\", labelCol=\"label\")\n",
    "rf_eval2= MulticlassClassificationEvaluator(predictionCol=\"prediction\", labelCol=\"label\")\n",
    "rf_AUC  = rf_eval.evaluate(rf_result)\n",
    "rf_ACC  = rf_eval2.evaluate(rf_result, {rf_eval2.metricName:\"accuracy\"})\n",
    "\n",
    "print(\"Độ đo đánh giá  mô hình Random Forest \")\n",
    "print(\"Accuracy = %0.2f\" % rf_ACC)\n",
    "print(\"AUC = %.2f\" % rf_AUC)"
   ]
  },
  {
   "cell_type": "markdown",
   "metadata": {},
   "source": [
    "##### Xây dựng Confusion Matrix\n",
    "Chúng tôi xây dựng $Confusion Matrix$. Sau đó, chúng tôi tiến hành tính $Accuracy$, $Sensitivity$, $Specificity$, $Precision$ "
   ]
  },
  {
   "cell_type": "code",
   "execution_count": 86,
   "metadata": {},
   "outputs": [
    {
     "data": {
      "text/html": [
       "<div>\n",
       "<style scoped>\n",
       "    .dataframe tbody tr th:only-of-type {\n",
       "        vertical-align: middle;\n",
       "    }\n",
       "\n",
       "    .dataframe tbody tr th {\n",
       "        vertical-align: top;\n",
       "    }\n",
       "\n",
       "    .dataframe thead th {\n",
       "        text-align: right;\n",
       "    }\n",
       "</style>\n",
       "<table border=\"1\" class=\"dataframe\">\n",
       "  <thead>\n",
       "    <tr style=\"text-align: right;\">\n",
       "      <th></th>\n",
       "      <th>prediction_label</th>\n",
       "      <th>0</th>\n",
       "      <th>1</th>\n",
       "    </tr>\n",
       "  </thead>\n",
       "  <tbody>\n",
       "    <tr>\n",
       "      <th>0</th>\n",
       "      <td>1.0</td>\n",
       "      <td>0</td>\n",
       "      <td>288</td>\n",
       "    </tr>\n",
       "    <tr>\n",
       "      <th>1</th>\n",
       "      <td>0.0</td>\n",
       "      <td>63514</td>\n",
       "      <td>14399</td>\n",
       "    </tr>\n",
       "  </tbody>\n",
       "</table>\n",
       "</div>"
      ],
      "text/plain": [
       "  prediction_label      0      1\n",
       "0              1.0      0    288\n",
       "1              0.0  63514  14399"
      ]
     },
     "execution_count": 86,
     "metadata": {},
     "output_type": "execute_result"
    }
   ],
   "source": [
    "cm_rf_result = rf_result.crosstab(\"prediction\", \"label\")\n",
    "cm_rf_result = cm_rf_result.toPandas()\n",
    "cm_rf_result"
   ]
  },
  {
   "cell_type": "code",
   "execution_count": 87,
   "metadata": {},
   "outputs": [
    {
     "name": "stdout",
     "output_type": "stream",
     "text": [
      "Accuracy = 0.82\n",
      "Sensitivity = 0.02\n",
      "Specificity = 1.00\n",
      "Precision = 1.00\n"
     ]
    }
   ],
   "source": [
    "# Tính Accuracy, Sensitivity, Specificity, Precision\n",
    "TP = cm_rf_result[\"1\"][0]\n",
    "FP = cm_rf_result[\"0\"][0]\n",
    "TN = cm_rf_result[\"0\"][1]\n",
    "FN = cm_rf_result[\"1\"][1]\n",
    "Accuracy = (TP+TN)/(TP+FP+TN+FN)\n",
    "Sensitivity = TP/(TP+FN)\n",
    "Specificity = TN/(TN+FP)\n",
    "Precision = TP/(TP+FP)\n",
    "\n",
    "print (\"Accuracy = %0.2f\" %Accuracy )\n",
    "print (\"Sensitivity = %0.2f\" %Sensitivity )\n",
    "print (\"Specificity = %0.2f\" %Specificity )\n",
    "print (\"Precision = %0.2f\" %Precision )"
   ]
  },
  {
   "cell_type": "markdown",
   "metadata": {},
   "source": [
    "##### Tính hệ số Gini từ AUC"
   ]
  },
  {
   "cell_type": "code",
   "execution_count": 88,
   "metadata": {},
   "outputs": [
    {
     "name": "stdout",
     "output_type": "stream",
     "text": [
      "AUC=0.87\n",
      "GINI ~=0.74\n"
     ]
    }
   ],
   "source": [
    "AUC = rf_AUC\n",
    "Gini_rf= (2 * AUC -1)\n",
    "\n",
    "print(\"AUC=%.2f\" % AUC)\n",
    "print(\"GINI ~=%.2f\" % Gini_rf)"
   ]
  },
  {
   "cell_type": "markdown",
   "metadata": {},
   "source": [
    "### Dự đoán trên tập test\n",
    "Chúng tôi sử dụng hai mô hình tốt nhất để tiến hành dự đoán kết quả trên tập test và xuất file csv kết quả."
   ]
  },
  {
   "cell_type": "markdown",
   "metadata": {},
   "source": [
    "#### Dự đoán dùng mô hình Logistic Regression"
   ]
  },
  {
   "cell_type": "code",
   "execution_count": 89,
   "metadata": {},
   "outputs": [],
   "source": [
    "# Áp dụng mô hình trên tập test\n",
    "lr_predict = lr_model.transform(test2)"
   ]
  },
  {
   "cell_type": "code",
   "execution_count": 90,
   "metadata": {},
   "outputs": [
    {
     "name": "stdout",
     "output_type": "stream",
     "text": [
      "+---+----------+--------------------+\n",
      "| Id|prediction|         probability|\n",
      "+---+----------+--------------------+\n",
      "|  3|       0.0|[0.98506840365227...|\n",
      "|  5|       0.0|[0.91044259403466...|\n",
      "|  7|       0.0|[0.96879151308842...|\n",
      "|  9|       0.0|[0.97435600997568...|\n",
      "| 10|       0.0|[0.71416584885882...|\n",
      "+---+----------+--------------------+\n",
      "only showing top 5 rows\n",
      "\n"
     ]
    }
   ],
   "source": [
    "# Xem id, label, prediction (dự đoán) và kết quả xác suất của mô hình\n",
    "lr_predict.select('Id', 'prediction', 'probability').show(5)"
   ]
  },
  {
   "cell_type": "code",
   "execution_count": 91,
   "metadata": {},
   "outputs": [],
   "source": [
    "# Chọn id và prediction từ kết quả của mô hình và lưu vào data frame có tên là my_submission_lr\n",
    "my_submission=lr_predict.select(\"Id\",\"prediction\")"
   ]
  },
  {
   "cell_type": "code",
   "execution_count": 92,
   "metadata": {},
   "outputs": [],
   "source": [
    "# Chuyển sang Pandas dataframe\n",
    "my_submission=my_submission.toPandas()"
   ]
  },
  {
   "cell_type": "code",
   "execution_count": 93,
   "metadata": {},
   "outputs": [],
   "source": [
    "# lưu file ở dạng csv\n",
    "my_submission.to_csv('C:/Users/PC/BA_ML/project_BA_ML/my_submission_lr.csv', index = False, header = True)"
   ]
  },
  {
   "cell_type": "markdown",
   "metadata": {},
   "source": [
    "#### Dự đoán dùng mô hình Decision Tree"
   ]
  },
  {
   "cell_type": "code",
   "execution_count": 94,
   "metadata": {},
   "outputs": [],
   "source": [
    "# Áp dụng mô hình trên tập test\n",
    "dt_predict = dt_model.transform(test2)"
   ]
  },
  {
   "cell_type": "code",
   "execution_count": 95,
   "metadata": {},
   "outputs": [
    {
     "name": "stdout",
     "output_type": "stream",
     "text": [
      "+---+----------+--------------------+\n",
      "| Id|prediction|         probability|\n",
      "+---+----------+--------------------+\n",
      "|  3|       0.0|[0.94966697089150...|\n",
      "|  5|       0.0|[0.94966697089150...|\n",
      "|  7|       0.0|[0.94966697089150...|\n",
      "|  9|       0.0|[0.94966697089150...|\n",
      "| 10|       0.0|[0.94966697089150...|\n",
      "+---+----------+--------------------+\n",
      "only showing top 5 rows\n",
      "\n"
     ]
    }
   ],
   "source": [
    "# Xem id, label, prediction (dự đoán) và kết quả xác suất của mô hình\n",
    "dt_predict.select('Id', 'prediction', 'probability').show(5)"
   ]
  },
  {
   "cell_type": "code",
   "execution_count": 96,
   "metadata": {},
   "outputs": [],
   "source": [
    "# Chọn id và prediction từ kết quả của mô hình và lưu vào data frame có tên là my_submission_dt\n",
    "my_submission2=dt_predict.select(\"Id\",\"prediction\")"
   ]
  },
  {
   "cell_type": "code",
   "execution_count": 97,
   "metadata": {},
   "outputs": [],
   "source": [
    "# Chuyển sang Pandas dataframe\n",
    "my_submission2=my_submission2.toPandas()"
   ]
  },
  {
   "cell_type": "code",
   "execution_count": 98,
   "metadata": {},
   "outputs": [],
   "source": [
    "#save to csv\n",
    "my_submission2.to_csv('C:/Users/PC/BA_ML/project_BA_ML/my_submission_dt.csv', index = False, header = True)"
   ]
  },
  {
   "cell_type": "markdown",
   "metadata": {},
   "source": [
    "Kết luận: Như vậy chúng tôi đã thực hiện thành công việc dự đoán việc mua bảo hiểm của các khách hàng ở tập test."
   ]
  }
 ],
 "metadata": {
  "kernelspec": {
   "display_name": "Python 3",
   "language": "python",
   "name": "python3"
  },
  "language_info": {
   "codemirror_mode": {
    "name": "ipython",
    "version": 3
   },
   "file_extension": ".py",
   "mimetype": "text/x-python",
   "name": "python",
   "nbconvert_exporter": "python",
   "pygments_lexer": "ipython3",
   "version": "3.8.3"
  },
  "toc": {
   "base_numbering": 1,
   "nav_menu": {},
   "number_sections": true,
   "sideBar": true,
   "skip_h1_title": true,
   "title_cell": "MỤC LỤC",
   "title_sidebar": "Contents",
   "toc_cell": true,
   "toc_position": {
    "height": "calc(100% - 180px)",
    "left": "10px",
    "top": "150px",
    "width": "243.07px"
   },
   "toc_section_display": true,
   "toc_window_display": true
  }
 },
 "nbformat": 4,
 "nbformat_minor": 2
}
